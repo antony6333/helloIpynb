{
 "cells": [
  {
   "metadata": {},
   "cell_type": "markdown",
   "source": [
    "## 類別方法預設值問題\n",
    "---\n",
    "python 類別的method中將參數設有預設值，這個參數在不同的實例(instance)是共用的嗎?\n",
    "> 是的，如果 預設值是可變物件（如 list, dict, set），那麼這個物件會被所有實例共用。這是因為 Python 在函式定義時就建立了預設參數的物件，而不是在函式被呼叫時才建立。"
   ],
   "id": "f320a42d2a3b5fa8"
  },
  {
   "metadata": {
    "ExecuteTime": {
     "end_time": "2025-02-19T00:01:46.593879Z",
     "start_time": "2025-02-19T00:01:46.563702Z"
    }
   },
   "cell_type": "code",
   "source": [
    "class Test:\n",
    "    def __init__(self, data=[5]):  # 預設值是一個 list\n",
    "        self.data = data\n",
    "print(Test.__init__.__defaults__)  # 印出類別初始化的預設值  <== 尚未建立實例就建好預設值了\n",
    "t1 = Test()\n",
    "t2 = Test()\n",
    "\n",
    "t1.data.append(1)  # 修改 t1 的 data\n",
    "print(t2.data)  # t2 的 data 也受影響"
   ],
   "id": "6c478d047fc89dda",
   "outputs": [
    {
     "name": "stdout",
     "output_type": "stream",
     "text": [
      "([5],)\n",
      "[5, 1]\n"
     ]
    }
   ],
   "execution_count": 2
  },
  {
   "metadata": {},
   "cell_type": "markdown",
   "source": "如果不想要共用，應該使用 None 作為預設值，並在函式內部建立新的物件：",
   "id": "7e29b2d3e1a55c49"
  },
  {
   "metadata": {
    "ExecuteTime": {
     "end_time": "2025-02-19T00:04:21.956005Z",
     "start_time": "2025-02-19T00:04:21.932944Z"
    }
   },
   "cell_type": "code",
   "source": [
    "class Test:\n",
    "    def __init__(self, data=None):\n",
    "        if data is None:\n",
    "            data = []  # 每次建立新的 list\n",
    "        self.data = data\n",
    "print(Test.__init__.__defaults__)\n",
    "t1 = Test()\n",
    "t2 = Test()\n",
    "\n",
    "t1.data.append(1)\n",
    "print(t2.data)"
   ],
   "id": "5fd7d7b5715451e0",
   "outputs": [
    {
     "name": "stdout",
     "output_type": "stream",
     "text": [
      "(None,)\n",
      "[]\n"
     ]
    }
   ],
   "execution_count": 3
  }
 ],
 "metadata": {
  "kernelspec": {
   "display_name": "Python 3",
   "language": "python",
   "name": "python3"
  },
  "language_info": {
   "codemirror_mode": {
    "name": "ipython",
    "version": 2
   },
   "file_extension": ".py",
   "mimetype": "text/x-python",
   "name": "python",
   "nbconvert_exporter": "python",
   "pygments_lexer": "ipython2",
   "version": "2.7.6"
  }
 },
 "nbformat": 4,
 "nbformat_minor": 5
}
