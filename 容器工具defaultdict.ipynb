{
 "cells": [
  {
   "metadata": {},
   "cell_type": "markdown",
   "source": [
    "## defaultdict 容器工具\n",
    "---\n",
    "`defaultdict` 是 Python collections 模組中的一個特殊字典，當訪問不存在的鍵時，會自動創建一個預設值而不是拋出 KeyError。\n",
    "這使它在處理數據分組、計數和創建嵌套結構時非常有用。"
   ],
   "id": "35215d3dbc5159cf"
  },
  {
   "metadata": {
    "ExecuteTime": {
     "end_time": "2025-03-06T02:43:20.091622Z",
     "start_time": "2025-03-06T02:43:20.062414Z"
    }
   },
   "cell_type": "code",
   "source": [
    "# 基本用法\n",
    "from collections import defaultdict\n",
    "\n",
    "# 創建一個預設值為整數 0 的字典\n",
    "int_dict = defaultdict(int)\n",
    "print(f\"訪問不存在的鍵 'a': {int_dict['a']}\")  # 不會拋出錯誤，返回 0\n",
    "int_dict['b'] += 5\n",
    "print(f\"int_dict: {dict(int_dict)}\")"
   ],
   "id": "68867bc5f8e6f438",
   "outputs": [
    {
     "name": "stdout",
     "output_type": "stream",
     "text": [
      "訪問不存在的鍵 'a': 0\n",
      "int_dict: {'a': 0, 'b': 5}\n"
     ]
    }
   ],
   "execution_count": 1
  },
  {
   "metadata": {
    "ExecuteTime": {
     "end_time": "2025-03-06T02:44:50.569230Z",
     "start_time": "2025-03-06T02:44:50.550292Z"
    }
   },
   "cell_type": "code",
   "source": [
    "# 使用不同的預設工廠函數\n",
    "list_dict = defaultdict(list)\n",
    "list_dict['fruits'].append('蘋果')\n",
    "list_dict['fruits'].append('香蕉')\n",
    "list_dict['vegetables'].append('胡蘿蔔')\n",
    "print(f\"list_dict: {dict(list_dict)}\")\n",
    "\n",
    "set_dict = defaultdict(set)\n",
    "set_dict['A'].add(1)\n",
    "set_dict['A'].add(2)\n",
    "set_dict['A'].add(1)  # 重複元素不會添加\n",
    "print(f\"set_dict: {dict(set_dict)}\")"
   ],
   "id": "3339e124f5aaae58",
   "outputs": [
    {
     "name": "stdout",
     "output_type": "stream",
     "text": [
      "list_dict: {'fruits': ['蘋果', '香蕉'], 'vegetables': ['胡蘿蔔']}\n",
      "set_dict: {'A': {1, 2}}\n"
     ]
    }
   ],
   "execution_count": 2
  },
  {
   "metadata": {
    "ExecuteTime": {
     "end_time": "2025-03-06T05:33:09.346663Z",
     "start_time": "2025-03-06T05:33:09.317851Z"
    }
   },
   "cell_type": "code",
   "source": [
    "# 自定義預設值函數\n",
    "def default_value():\n",
    "    return \"未知\"\n",
    "custom_dict = defaultdict(default_value)\n",
    "print(f\"訪問不存在的鍵 'name': {custom_dict['name']}\")\n",
    "custom_dict['age'] = 25\n",
    "print(f\"custom_dict: {dict(custom_dict)}\")"
   ],
   "id": "135f26336c9ea2d6",
   "outputs": [
    {
     "name": "stdout",
     "output_type": "stream",
     "text": [
      "訪問不存在的鍵 'name': 未知\n",
      "custom_dict: {'name': '未知', 'age': 25}\n"
     ]
    }
   ],
   "execution_count": 3
  },
  {
   "metadata": {
    "ExecuteTime": {
     "end_time": "2025-03-06T05:34:31.230592Z",
     "start_time": "2025-03-06T05:34:31.211930Z"
    }
   },
   "cell_type": "code",
   "source": [
    "# 常見用例：計數（頻率統計）\n",
    "words = ['蘋果', '香蕉', '蘋果', '橘子', '香蕉', '蘋果', '西瓜']\n",
    "# 使用 defaultdict\n",
    "word_counts = defaultdict(int)\n",
    "for word in words:\n",
    "    word_counts[word] += 1\n",
    "print(f\"單詞計數: {dict(word_counts)}\")"
   ],
   "id": "44541ebc790d5d88",
   "outputs": [
    {
     "name": "stdout",
     "output_type": "stream",
     "text": [
      "單詞計數: {'蘋果': 3, '香蕉': 2, '橘子': 1, '西瓜': 1}\n"
     ]
    }
   ],
   "execution_count": 4
  },
  {
   "metadata": {
    "ExecuteTime": {
     "end_time": "2025-03-06T05:34:51.239388Z",
     "start_time": "2025-03-06T05:34:51.224775Z"
    }
   },
   "cell_type": "code",
   "source": [
    "# 對比：不使用 defaultdict\n",
    "regular_dict = {}\n",
    "for word in words:\n",
    "    if word in regular_dict:\n",
    "        regular_dict[word] += 1\n",
    "    else:\n",
    "        regular_dict[word] = 1\n",
    "print(f\"使用普通字典計數: {regular_dict}\")"
   ],
   "id": "32a1a489b649a080",
   "outputs": [
    {
     "name": "stdout",
     "output_type": "stream",
     "text": [
      "使用普通字典計數: {'蘋果': 3, '香蕉': 2, '橘子': 1, '西瓜': 1}\n"
     ]
    }
   ],
   "execution_count": 5
  },
  {
   "metadata": {
    "ExecuteTime": {
     "end_time": "2025-03-06T05:35:28.477333Z",
     "start_time": "2025-03-06T05:35:28.454955Z"
    }
   },
   "cell_type": "code",
   "source": [
    "# 分組數據\n",
    "students = [\n",
    "    ('張三', '數學'),\n",
    "    ('李四', '物理'),\n",
    "    ('王五', '數學'),\n",
    "    ('趙六', '化學'),\n",
    "    ('李四', '化學')\n",
    "]\n",
    "# 按照科目分組\n",
    "subjects = defaultdict(list)\n",
    "for name, subject in students:\n",
    "    subjects[subject].append(name)\n",
    "print(f\"科目分組:\\n{dict(subjects)}\")"
   ],
   "id": "6e24a62194621882",
   "outputs": [
    {
     "name": "stdout",
     "output_type": "stream",
     "text": [
      "科目分組:\n",
      "{'數學': ['張三', '王五'], '物理': ['李四'], '化學': ['趙六', '李四']}\n"
     ]
    }
   ],
   "execution_count": 6
  },
  {
   "metadata": {
    "ExecuteTime": {
     "end_time": "2025-03-06T05:38:32.378376Z",
     "start_time": "2025-03-06T05:38:32.360045Z"
    }
   },
   "cell_type": "code",
   "source": [
    "# 嵌套 defaultdict - 二維結構 (相對於Java就是Map<String, Map<String, Integer>>)\n",
    "nested = defaultdict(lambda: defaultdict(int))\n",
    "nested['張三']['數學'] = 90\n",
    "nested['張三']['英語'] = 85\n",
    "nested['李四']['數學'] = 78\n",
    "print(\"成績表:\")\n",
    "for student, scores in nested.items():\n",
    "    print(f\"{student}: {dict(scores)}\")"
   ],
   "id": "7927a5c538aefc36",
   "outputs": [
    {
     "name": "stdout",
     "output_type": "stream",
     "text": [
      "成績表:\n",
      "張三: {'數學': 90, '英語': 85}\n",
      "李四: {'數學': 78}\n"
     ]
    }
   ],
   "execution_count": 8
  },
  {
   "metadata": {
    "ExecuteTime": {
     "end_time": "2025-03-06T06:44:25.899596Z",
     "start_time": "2025-03-06T06:44:25.881336Z"
    }
   },
   "cell_type": "code",
   "source": [
    "# 使用 defaultdict 處理 JSON 資料\n",
    "import json\n",
    "json_data = '''\n",
    "{\n",
    "    \"台北市\": {\n",
    "        \"人口\": 2646204,\n",
    "        \"面積\": 271.8\n",
    "    },\n",
    "    \"高雄市\": {\n",
    "        \"人口\": 2765932,\n",
    "        \"面積\": 2951.85\n",
    "    }\n",
    "}\n",
    "'''\n",
    "# 轉換 JSON 為 defaultdict\n",
    "city_data = defaultdict(lambda: defaultdict(str))\n",
    "loaded_data = json.loads(json_data)\n",
    "for city, info in loaded_data.items():\n",
    "    for key, value in info.items():\n",
    "        city_data[city][key] = value\n",
    "# 可以安全訪問不存在的鍵\n",
    "print(f\"台中市人口: {city_data['台中市']['人口']}\")  # 返回空字符串\n",
    "print(f\"台北市人口: {city_data['台北市']['人口']}\")"
   ],
   "id": "56d53135c2bc5604",
   "outputs": [
    {
     "name": "stdout",
     "output_type": "stream",
     "text": [
      "台中市人口: \n",
      "台北市人口: 2646204\n"
     ]
    }
   ],
   "execution_count": 12
  }
 ],
 "metadata": {
  "kernelspec": {
   "display_name": "Python 3",
   "language": "python",
   "name": "python3"
  },
  "language_info": {
   "codemirror_mode": {
    "name": "ipython",
    "version": 2
   },
   "file_extension": ".py",
   "mimetype": "text/x-python",
   "name": "python",
   "nbconvert_exporter": "python",
   "pygments_lexer": "ipython2",
   "version": "2.7.6"
  }
 },
 "nbformat": 4,
 "nbformat_minor": 5
}
