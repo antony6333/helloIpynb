{
 "cells": [
  {
   "metadata": {},
   "cell_type": "markdown",
   "source": [
    "## 條件變量Condition\n",
    "---\n",
    "thread condition應用在執行緒間的協調(誰先做誰後做)，其內部實作依舊是使用lock來實現的。condition的使用方式如下："
   ],
   "id": "67b27be312cefae8"
  },
  {
   "metadata": {
    "ExecuteTime": {
     "end_time": "2025-02-27T00:48:33.985855Z",
     "start_time": "2025-02-27T00:48:28.847809Z"
    }
   },
   "cell_type": "code",
   "source": [
    "import threading\n",
    "import time\n",
    "\n",
    "class XiaoAi(threading.Thread):\n",
    "    def __init__(self, condition):\n",
    "        super().__init__()\n",
    "        self.condition = condition\n",
    "        self.dialogue = [\n",
    "            \"今天天氣怎麼樣？\",\n",
    "            \"我想聽首歌。\",\n",
    "            \"你會講笑話嗎？\",\n",
    "            \"有推薦的電影嗎？\",\n",
    "            \"晚安，天貓精靈！\"\n",
    "        ]\n",
    "\n",
    "    def run(self):\n",
    "        for i in range(5):\n",
    "            with self.condition:\n",
    "                self.condition.wait()  # 等待天貓精靈說話\n",
    "                print(f\"小愛同學: {self.dialogue[i]}\")\n",
    "                time.sleep(0.5)  # 模擬說話時間\n",
    "                self.condition.notify()  # 通知天貓精靈\n",
    "\n",
    "class TmallGenie(threading.Thread):\n",
    "    def __init__(self, condition):\n",
    "        super().__init__()\n",
    "        self.condition = condition\n",
    "        self.dialogue = [\n",
    "            \"今天天氣晴朗，適合出門哦！\",\n",
    "            \"好啊，來首《晴天》吧！\",\n",
    "            \"當然會！為什麼電腦累了？因為它有很多窗口要開！\",\n",
    "            \"最近《流浪地球2》挺火的哦！\",\n",
    "            \"晚安，小愛同學，祝你好夢！\"\n",
    "        ]\n",
    "\n",
    "    def run(self):\n",
    "        with self.condition:\n",
    "            for i in range(5):\n",
    "                print(f\"天貓精靈: {self.dialogue[i]}\")\n",
    "                time.sleep(0.5)  # 模擬說話時間\n",
    "                self.condition.notify()  # 通知小愛同學\n",
    "                self.condition.wait()  # 等待小愛同學回應\n",
    "\n",
    "# 創建條件變數\n",
    "condition = threading.Condition()\n",
    "\n",
    "# 創建執行緒\n",
    "xiaomi = XiaoAi(condition)\n",
    "tmall = TmallGenie(condition)\n",
    "\n",
    "# 啟動執行緒\n",
    "xiaomi.start()\n",
    "tmall.start()\n",
    "\n",
    "# 等待執行緒完成\n",
    "xiaomi.join()\n",
    "tmall.join()\n"
   ],
   "id": "18586d35fcbbd845",
   "outputs": [
    {
     "name": "stdout",
     "output_type": "stream",
     "text": [
      "天貓精靈: 今天天氣晴朗，適合出門哦！\n",
      "小愛同學: 今天天氣怎麼樣？\n",
      "天貓精靈: 好啊，來首《晴天》吧！\n",
      "小愛同學: 我想聽首歌。\n",
      "天貓精靈: 當然會！為什麼電腦累了？因為它有很多窗口要開！\n",
      "小愛同學: 你會講笑話嗎？\n",
      "天貓精靈: 最近《流浪地球2》挺火的哦！\n",
      "小愛同學: 有推薦的電影嗎？\n",
      "天貓精靈: 晚安，小愛同學，祝你好夢！\n",
      "小愛同學: 晚安，天貓精靈！\n"
     ]
    }
   ],
   "execution_count": 2
  }
 ],
 "metadata": {
  "kernelspec": {
   "display_name": "Python 3",
   "language": "python",
   "name": "python3"
  },
  "language_info": {
   "codemirror_mode": {
    "name": "ipython",
    "version": 2
   },
   "file_extension": ".py",
   "mimetype": "text/x-python",
   "name": "python",
   "nbconvert_exporter": "python",
   "pygments_lexer": "ipython2",
   "version": "2.7.6"
  }
 },
 "nbformat": 4,
 "nbformat_minor": 5
}
