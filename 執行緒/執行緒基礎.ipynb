{
 "cells": [
  {
   "metadata": {},
   "cell_type": "markdown",
   "source": [
    "## 執行緒(線程)基礎\n",
    "---\n",
    "GIL(Global Interpreter Lock)是Python解釋器的一個特性，它確保任何時候只有一個執行緒在解釋器中執行。這意味著Python中的多執行緒程式碼不能利用多核處理器的優勢。但是，GIL只在CPython中存在，其他Python解釋器如Jython和IronPython沒有GIL，因此可以利用多核處理器。\n",
    "\n",
    "執行緒的工作原理是將一個任務分成多個子任務，然後同時執行這些子任務。這樣可以提高程式的效率，特別是在I/O密集型的任務中，如網路請求、檔案讀寫等。 (它會在I/O操作時自動釋放GIL，調度到其他執行緒)\n",
    "\n",
    "1. 主線程結束後，所有子線程會被強制終止。"
   ],
   "id": "846d11d0b1ffdeec"
  },
  {
   "metadata": {
    "ExecuteTime": {
     "end_time": "2025-02-24T00:49:44.596848Z",
     "start_time": "2025-02-24T00:49:44.548171Z"
    }
   },
   "cell_type": "code",
   "source": [
    "import threading\n",
    "import time\n",
    "\n",
    "def print_detail_html(url):\n",
    "    print(f\"Start downloading {url}...\")\n",
    "    time.sleep(2)\n",
    "    print(f\"Finish downloading {url}.\")\n",
    "\n",
    "def print_detail_url(url):\n",
    "    print(f\"get detail url from {url}...\")\n",
    "    time.sleep(4)\n",
    "    print(f\"Finish getting detail url from {url}.\")\n",
    "\n",
    "thread1 = threading.Thread(target=print_detail_html, args=(\"http://www.baidu.com\",))\n",
    "thread2 = threading.Thread(target=print_detail_url, args=(\"http://www.baidu.com\",))\n",
    "start_time = time.time()\n",
    "thread1.start()\n",
    "thread2.start()\n",
    "print(f\"Total time: {time.time() - start_time}\")  # 這行之後主執行緒結束，二個子執行緒直接刪除"
   ],
   "id": "a6105c1b6509cccc",
   "outputs": [
    {
     "name": "stdout",
     "output_type": "stream",
     "text": [
      "Start downloading http://www.baidu.com...\n",
      "get detail url from http://www.baidu.com...\n",
      "Total time: 0.014338970184326172\n"
     ]
    }
   ],
   "execution_count": 44
  },
  {
   "metadata": {},
   "cell_type": "markdown",
   "source": "2. join()方法可以讓主線程等待子線程結束後再結束。",
   "id": "6498e872cccf589c"
  },
  {
   "metadata": {
    "ExecuteTime": {
     "end_time": "2025-02-24T00:49:23.292526Z",
     "start_time": "2025-02-24T00:49:21.241697Z"
    }
   },
   "cell_type": "code",
   "source": [
    "import threading\n",
    "import time\n",
    "\n",
    "def print_detail_html(url):\n",
    "    print(f\"Start downloading {url}...\")\n",
    "    time.sleep(1)\n",
    "    print(f\"Finish downloading {url}.\")\n",
    "\n",
    "def print_detail_url(url):\n",
    "    print(f\"get detail url from {url}...\")\n",
    "    time.sleep(2)\n",
    "    print(f\"Finish getting detail url from {url}.\")\n",
    "\n",
    "thread1 = threading.Thread(target=print_detail_html, args=(\"http://www.baidu.com\",))\n",
    "thread2 = threading.Thread(target=print_detail_url, args=(\"http://www.baidu.com\",))\n",
    "start_time = time.time()\n",
    "thread1.start()\n",
    "thread2.start()\n",
    "thread1.join()\n",
    "thread2.join()\n",
    "print(f\"Total time: {time.time() - start_time}\")"
   ],
   "id": "9752f7419e520184",
   "outputs": [
    {
     "name": "stdout",
     "output_type": "stream",
     "text": [
      "Start downloading http://www.baidu.com...\n",
      "get detail url from http://www.baidu.com...\n",
      "Finish downloading http://www.baidu.com.\n",
      "Finish getting detail url from http://www.baidu.com.\n",
      "Total time: 2.0180842876434326\n"
     ]
    }
   ],
   "execution_count": 37
  },
  {
   "metadata": {},
   "cell_type": "markdown",
   "source": "3. 使用類別方式定義執行緒",
   "id": "10e1a64a78d58107"
  },
  {
   "metadata": {
    "ExecuteTime": {
     "end_time": "2025-02-24T00:55:45.702987Z",
     "start_time": "2025-02-24T00:55:43.665473Z"
    }
   },
   "cell_type": "code",
   "source": [
    "import threading\n",
    "import time\n",
    "\n",
    "class PrintDetailHtml(threading.Thread):\n",
    "    def __init__(self, url):\n",
    "        super().__init__()\n",
    "        self.url = url\n",
    "\n",
    "    def run(self):\n",
    "        print(f\"Start downloading {self.url}...\")\n",
    "        time.sleep(1)\n",
    "        print(f\"Finish downloading {self.url}.\")\n",
    "\n",
    "class PrintDetailUrl(threading.Thread):\n",
    "    def __init__(self, url):\n",
    "        super().__init__()\n",
    "        self.url = url\n",
    "\n",
    "    def run(self):\n",
    "        print(f\"get detail url from {self.url}...\")\n",
    "        time.sleep(2)\n",
    "        print(f\"Finish getting detail url from {self.url}.\")\n",
    "\n",
    "thread1 = PrintDetailHtml(\"http://www.baidu.com\")\n",
    "thread2 = PrintDetailUrl(\"http://www.baidu.com\")\n",
    "start_time = time.time()\n",
    "thread1.start()\n",
    "thread2.start()\n",
    "thread1.join()\n",
    "thread2.join()\n",
    "print(f\"Total time: {time.time() - start_time}\")\n"
   ],
   "id": "afcfe9d0d4ba7c4d",
   "outputs": [
    {
     "name": "stdout",
     "output_type": "stream",
     "text": [
      "Start downloading http://www.baidu.com...\n",
      "get detail url from http://www.baidu.com...\n",
      "Finish downloading http://www.baidu.com.\n",
      "Finish getting detail url from http://www.baidu.com.\n",
      "Total time: 2.0211708545684814\n"
     ]
    }
   ],
   "execution_count": 46
  }
 ],
 "metadata": {
  "kernelspec": {
   "display_name": "Python 3",
   "language": "python",
   "name": "python3"
  },
  "language_info": {
   "codemirror_mode": {
    "name": "ipython",
    "version": 2
   },
   "file_extension": ".py",
   "mimetype": "text/x-python",
   "name": "python",
   "nbconvert_exporter": "python",
   "pygments_lexer": "ipython2",
   "version": "2.7.6"
  }
 },
 "nbformat": 4,
 "nbformat_minor": 5
}
