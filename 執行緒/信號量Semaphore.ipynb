{
 "cells": [
  {
   "metadata": {},
   "cell_type": "markdown",
   "source": [
    "## 信號量Semaphore\n",
    "---\n",
    "信號量Semaphore是一種用於控制對共享資源訪問的同步原語。它可以用來限制同時訪問某個特定資源的執行緒數量。Semaphore的計數器表示當前可用資源的數量，當計數器大於0時，執行緒可以訪問資源；當計數器為0時，執行緒需要等待。"
   ],
   "id": "51d988e0974565"
  },
  {
   "metadata": {
    "ExecuteTime": {
     "end_time": "2025-02-27T09:54:34.750309Z",
     "start_time": "2025-02-27T09:54:20.706402Z"
    }
   },
   "cell_type": "code",
   "source": [
    "import threading\n",
    "import time\n",
    "\n",
    "# 網頁爬蟲類別 (目的:控制同時工作爬蟲的數量，避免被封IP)\n",
    "class HtmlSpider(threading.Thread):\n",
    "    def __init__(self, name, semaphore, lock):\n",
    "        super().__init__()\n",
    "        self.name = name\n",
    "        self.semaphore = semaphore\n",
    "        self.lock = lock\n",
    "\n",
    "    def run(self):\n",
    "        time.sleep(2)\n",
    "        with self.lock:  # 避免不同thread同時print的干擾狀況\n",
    "            print(f\"{self.name} got html text success in \", time.strftime(\"%H:%M:%S\", time.localtime()))\n",
    "        self.semaphore.release() # 釋放信號量 (將計數器加1)\n",
    "\n",
    "# 獲取網址內容類別\n",
    "class UrlProducer(threading.Thread):\n",
    "    def __init__(self, semaphore, lock):\n",
    "        super().__init__()\n",
    "        self.semaphore = semaphore\n",
    "        self.lock = lock\n",
    "        self.spiders = []\n",
    "\n",
    "    def run(self):\n",
    "        for i in range(20):\n",
    "            with self.lock:\n",
    "                print(f\"UrlProducer-{i} called new htmlSpider\")\n",
    "            self.semaphore.acquire()  # 獲取信號量 (將計數器減1)\n",
    "            spider = HtmlSpider(f\"htmlSpider-{i}\", self.semaphore, self.lock)\n",
    "            self.spiders.append(spider)\n",
    "            spider.start()\n",
    "        for spider in self.spiders:\n",
    "            spider.join()  # 等待所有HtmlSpider執行緒結束\n",
    "\n",
    "semaphore = threading.Semaphore(3)  # 限制同時訪問資源的執行緒數量為3\n",
    "lock = threading.Lock()\n",
    "urlProducer = UrlProducer(semaphore, lock)\n",
    "urlProducer.start()\n",
    "urlProducer.join()"
   ],
   "id": "90695718163f6876",
   "outputs": [
    {
     "name": "stdout",
     "output_type": "stream",
     "text": [
      "UrlProducer-0 called new htmlSpider\n",
      "UrlProducer-1 called new htmlSpider\n",
      "UrlProducer-2 called new htmlSpider\n",
      "UrlProducer-3 called new htmlSpider\n",
      "htmlSpider-0 got html text success in  17:54:22\n",
      "htmlSpider-2 got html text success in  17:54:22\n",
      "htmlSpider-1 got html text success in  17:54:22\n",
      "UrlProducer-4 called new htmlSpider\n",
      "UrlProducer-5 called new htmlSpider\n",
      "UrlProducer-6 called new htmlSpider\n",
      "htmlSpider-3 got html text success in  17:54:24\n",
      "htmlSpider-4 got html text success in  17:54:24\n",
      "UrlProducer-7 called new htmlSpider\n",
      "htmlSpider-5 got html text success in  17:54:24\n",
      "UrlProducer-8 called new htmlSpider\n",
      "UrlProducer-9 called new htmlSpider\n",
      "htmlSpider-6 got html text success in  17:54:26\n",
      "htmlSpider-8 got html text success in  17:54:26\n",
      "htmlSpider-7 got html text success in  17:54:26\n",
      "UrlProducer-10 called new htmlSpider\n",
      "UrlProducer-11 called new htmlSpider\n",
      "UrlProducer-12 called new htmlSpider\n",
      "htmlSpider-10 got html text success in  17:54:28\n",
      "htmlSpider-11 got html text success in  17:54:28\n",
      "htmlSpider-9 got html text success in  17:54:28\n",
      "UrlProducer-13 called new htmlSpider\n",
      "UrlProducer-14 called new htmlSpider\n",
      "UrlProducer-15 called new htmlSpider\n",
      "htmlSpider-12 got html text success in  17:54:30\n",
      "htmlSpider-14 got html text success in  17:54:30\n",
      "htmlSpider-13 got html text success in  17:54:30\n",
      "UrlProducer-16 called new htmlSpider\n",
      "UrlProducer-17 called new htmlSpider\n",
      "UrlProducer-18 called new htmlSpider\n",
      "htmlSpider-15 got html text success in  17:54:32\n",
      "htmlSpider-17 got html text success in  17:54:32\n",
      "UrlProducer-19 called new htmlSpider\n",
      "htmlSpider-16 got html text success in  17:54:32\n",
      "htmlSpider-18 got html text success in  17:54:34\n",
      "htmlSpider-19 got html text success in  17:54:34\n"
     ]
    }
   ],
   "execution_count": 12
  }
 ],
 "metadata": {
  "kernelspec": {
   "display_name": "Python 3",
   "language": "python",
   "name": "python3"
  },
  "language_info": {
   "codemirror_mode": {
    "name": "ipython",
    "version": 2
   },
   "file_extension": ".py",
   "mimetype": "text/x-python",
   "name": "python",
   "nbconvert_exporter": "python",
   "pygments_lexer": "ipython2",
   "version": "2.7.6"
  }
 },
 "nbformat": 4,
 "nbformat_minor": 5
}
