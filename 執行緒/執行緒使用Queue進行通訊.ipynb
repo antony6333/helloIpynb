{
 "cells": [
  {
   "metadata": {},
   "cell_type": "markdown",
   "source": [
    "## 執行緒使用Queue進行通訊\n",
    "---\n",
    "Queue是Python內建的threading模組提供的一個先進先出（FIFO）資料結構，適合用於多執行緒之間的通訊和協調。Queue提供了多種方法來操作資料，包括put()、get()、task_done()和join()等。這些方法都是線程安全的，這意味著它們可以在多個執行緒之間安全地使用，而不會導致資料損壞或不一致的問題。"
   ],
   "id": "94b53837da5da815"
  },
  {
   "metadata": {
    "ExecuteTime": {
     "end_time": "2025-02-25T00:27:29.564670Z",
     "start_time": "2025-02-25T00:27:23.487448Z"
    }
   },
   "cell_type": "code",
   "source": [
    "import threading\n",
    "import time\n",
    "from queue import Queue\n",
    "\n",
    "def parse_detail_html(queue, thread_event):\n",
    "    while True:\n",
    "        # 獲取事件狀態加以判斷是否退出迴圈\n",
    "        if thread_event.is_set() and queue.empty():\n",
    "            break\n",
    "        url = queue.get()  # 阻塞式取出 (隊列為空時會阻塞在這行，直到有資料進來)\n",
    "        print(f\"Start parse html in {url}\\n\")\n",
    "        time.sleep(1)\n",
    "        print(f\"Finish parse html in {url}\\n\")\n",
    "\n",
    "def get_detail_url(queue, thread_event):\n",
    "    for i in range(1,6):\n",
    "        print(f\"get detail url started for {i}\\n\")\n",
    "        time.sleep(1)\n",
    "        queue.put(\"http://projectsedu.com/{id}\".format(id=i))\n",
    "        print(f\"Finish getting detail url for {i}\\n\")\n",
    "    # 此線程工作完畢，在這裡設置事件\n",
    "    thread_event.set()\n",
    "    #threading.Event() 用於 Python 中的執行緒同步。它允許一個或多個執行緒等待某個事件發生\n",
    "\n",
    "detail_html_queue = Queue(maxsize=500)\n",
    "event = threading.Event()\n",
    "thread1 = threading.Thread(target=parse_detail_html, args=(detail_html_queue, event))\n",
    "thread2 = threading.Thread(target=get_detail_url, args=(detail_html_queue, event))\n",
    "thread1.start()\n",
    "thread2.start()\n",
    "thread1.join()\n",
    "thread2.join()\n"
   ],
   "id": "5685e607406e1dd1",
   "outputs": [
    {
     "name": "stdout",
     "output_type": "stream",
     "text": [
      "get detail url started for 1\n",
      "\n",
      "Finish getting detail url for 1\n",
      "Start parse html in http://projectsedu.com/1\n",
      "\n",
      "\n",
      "get detail url started for 2\n",
      "\n",
      "Finish parse html in http://projectsedu.com/1\n",
      "Finish getting detail url for 2\n",
      "\n",
      "get detail url started for 3\n",
      "\n",
      "\n",
      "Start parse html in http://projectsedu.com/2\n",
      "\n",
      "Finish parse html in http://projectsedu.com/2\n",
      "Finish getting detail url for 3\n",
      "\n",
      "get detail url started for 4\n",
      "\n",
      "\n",
      "Start parse html in http://projectsedu.com/3\n",
      "\n",
      "Finish getting detail url for 4\n",
      "Finish parse html in http://projectsedu.com/3\n",
      "\n",
      "Start parse html in http://projectsedu.com/4\n",
      "\n",
      "\n",
      "get detail url started for 5\n",
      "\n",
      "Finish parse html in http://projectsedu.com/4\n",
      "Finish getting detail url for 5\n",
      "\n",
      "\n",
      "Start parse html in http://projectsedu.com/5\n",
      "\n",
      "Finish parse html in http://projectsedu.com/5\n",
      "\n"
     ]
    }
   ],
   "execution_count": 6
  }
 ],
 "metadata": {
  "kernelspec": {
   "display_name": "Python 3",
   "language": "python",
   "name": "python3"
  },
  "language_info": {
   "codemirror_mode": {
    "name": "ipython",
    "version": 2
   },
   "file_extension": ".py",
   "mimetype": "text/x-python",
   "name": "python",
   "nbconvert_exporter": "python",
   "pygments_lexer": "ipython2",
   "version": "2.7.6"
  }
 },
 "nbformat": 4,
 "nbformat_minor": 5
}
