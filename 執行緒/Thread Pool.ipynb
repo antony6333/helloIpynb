{
 "cells": [
  {
   "metadata": {},
   "cell_type": "markdown",
   "source": [
    "## Thread pool\n",
    "---\n",
    "執行緒池是一種用於管理執行緒的機制，它可以維護一組執行緒，並在需要時分配執行緒來執行任務。執行緒池可以減少執行緒的創建和銷毀次數，提高執行緒的重用率，從而提高系統的性能。\n",
    "\n",
    "為何需要Thread pool(與Semaphore的差異)\n",
    "  + 主線程中可以獲取某一個線程的狀態或者某一個執行緒的返回值。\n",
    "  + 當一個線程完成時，主線程可以立即知道。\n",
    "  + futures包可以讓多線程和多進程編程接口一致，要做切換會非常容易。\n"
   ],
   "id": "84877e7c8ba1c3bb"
  },
  {
   "metadata": {
    "ExecuteTime": {
     "end_time": "2025-02-27T10:49:56.380143Z",
     "start_time": "2025-02-27T10:49:42.364221Z"
    }
   },
   "cell_type": "code",
   "source": [
    "import concurrent.futures\n",
    "import threading\n",
    "import time\n",
    "\n",
    "# 網頁爬蟲類別 (目的:控制同時工作爬蟲的數量，避免被封IP)\n",
    "class HtmlSpider:\n",
    "    def __init__(self, name, lock):\n",
    "        self.name = name\n",
    "        self.lock = lock\n",
    "\n",
    "    def fetch_html(self):\n",
    "        time.sleep(2)\n",
    "        with self.lock:\n",
    "            print(f\"{self.name} got html text success in \", time.strftime(\"%H:%M:%S\", time.localtime()), flush=True)\n",
    "        return self.name+\" done\"\n",
    "\n",
    "# 獲取網址內容類別\n",
    "class UrlProducer:\n",
    "    def __init__(self, max_workers):\n",
    "        self.lock = threading.Lock()\n",
    "        self.max_workers = max_workers\n",
    "\n",
    "    def produce_urls(self):\n",
    "        print(\"UrlProducer run produce_urls()\", flush=True)\n",
    "        with concurrent.futures.ThreadPoolExecutor(max_workers=self.max_workers) as executor:\n",
    "            futures = [executor.submit(HtmlSpider(f\"htmlSpider-{i}\", self.lock).fetch_html) for i in range(20)]\n",
    "            # 若有任務完成的，將它的結果印出來\n",
    "            for future in concurrent.futures.as_completed(futures):\n",
    "                with self.lock:\n",
    "                  print(future.result())\n",
    "            concurrent.futures.wait(futures) # 等待所有HtmlSpider執行緒結束\n",
    "            print(\"All threads are done\")\n",
    "\n",
    "urlProducer = UrlProducer(max_workers=3)\n",
    "urlProducer.produce_urls()"
   ],
   "id": "7151c35cc86c4ce9",
   "outputs": [
    {
     "name": "stdout",
     "output_type": "stream",
     "text": [
      "UrlProducer run produce_urls()\n",
      "htmlSpider-1 got html text success in  18:49:44\n",
      "htmlSpider-0 got html text success in  18:49:44\n",
      "htmlSpider-2 got html text success in  18:49:44\n",
      "htmlSpider-1 done\n",
      "htmlSpider-0 done\n",
      "htmlSpider-2 done\n",
      "htmlSpider-3 got html text success in  18:49:46\n",
      "htmlSpider-3 done\n",
      "htmlSpider-4 got html text success in  18:49:46\n",
      "htmlSpider-4 done\n",
      "htmlSpider-5 got html text success in  18:49:46\n",
      "htmlSpider-5 done\n",
      "htmlSpider-6 got html text success in  18:49:48\n",
      "htmlSpider-6 done\n",
      "htmlSpider-7 got html text success in  18:49:48\n",
      "htmlSpider-7 done\n",
      "htmlSpider-8 got html text success in  18:49:48\n",
      "htmlSpider-8 done\n",
      "htmlSpider-9 got html text success in  18:49:50\n",
      "htmlSpider-9 done\n",
      "htmlSpider-10 got html text success in  18:49:50\n",
      "htmlSpider-10 done\n",
      "htmlSpider-11 got html text success in  18:49:50\n",
      "htmlSpider-11 done\n",
      "htmlSpider-12 got html text success in  18:49:52\n",
      "htmlSpider-12 done\n",
      "htmlSpider-13 got html text success in  18:49:52\n",
      "htmlSpider-13 done\n",
      "htmlSpider-14 got html text success in  18:49:52\n",
      "htmlSpider-14 done\n",
      "htmlSpider-15 got html text success in  18:49:54\n",
      "htmlSpider-15 done\n",
      "htmlSpider-16 got html text success in  18:49:54\n",
      "htmlSpider-16 done\n",
      "htmlSpider-17 got html text success in  18:49:54\n",
      "htmlSpider-17 done\n",
      "htmlSpider-18 got html text success in  18:49:56\n",
      "htmlSpider-18 done\n",
      "htmlSpider-19 got html text success in  18:49:56\n",
      "htmlSpider-19 done\n",
      "All threads are done\n"
     ]
    }
   ],
   "execution_count": 15
  }
 ],
 "metadata": {
  "kernelspec": {
   "display_name": "Python 3",
   "language": "python",
   "name": "python3"
  },
  "language_info": {
   "codemirror_mode": {
    "name": "ipython",
    "version": 2
   },
   "file_extension": ".py",
   "mimetype": "text/x-python",
   "name": "python",
   "nbconvert_exporter": "python",
   "pygments_lexer": "ipython2",
   "version": "2.7.6"
  }
 },
 "nbformat": 4,
 "nbformat_minor": 5
}
