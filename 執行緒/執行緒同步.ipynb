{
 "cells": [
  {
   "metadata": {},
   "cell_type": "markdown",
   "source": [
    "## 執行緒同步\n",
    "---\n",
    "這個例子是沒有同步的狀況下二個執行緒同時對全域變數進行操作，導致可能導致結果不正確。<BR>\n",
    "註: 測試多次都是正確，應該是GIL只鎖在1個cpu上同時只有1個執行緒在運行，這也呼應了在GIL機制下的執行緒運作只適合I/O密集型的任務。"
   ],
   "id": "67f4a482f7f9c8c8"
  },
  {
   "metadata": {
    "ExecuteTime": {
     "end_time": "2025-02-25T00:52:53.615130Z",
     "start_time": "2025-02-25T00:52:53.085200Z"
    }
   },
   "cell_type": "code",
   "source": [
    "import threading\n",
    "\n",
    "count = 0  #全域變數\n",
    "def add():\n",
    "    global count\n",
    "    for i in range(1000000):\n",
    "        count += 1\n",
    "def desc():\n",
    "    global count\n",
    "    for i in range(1000000):\n",
    "        count -= 1\n",
    "thread1 = threading.Thread(target=add)\n",
    "thread2 = threading.Thread(target=desc)\n",
    "thread1.start()\n",
    "thread2.start()\n",
    "thread1.join()\n",
    "thread2.join()\n",
    "print(count)"
   ],
   "id": "939dd3f25d32c883",
   "outputs": [
    {
     "name": "stdout",
     "output_type": "stream",
     "text": [
      "0\n"
     ]
    }
   ],
   "execution_count": 59
  },
  {
   "metadata": {},
   "cell_type": "markdown",
   "source": "正確的方式，加入Lock來進行同步，避免複雜的操作導致不可預期的結果",
   "id": "9008805bb3b46633"
  },
  {
   "metadata": {
    "ExecuteTime": {
     "end_time": "2025-02-25T00:52:46.137576Z",
     "start_time": "2025-02-25T00:52:45.087139Z"
    }
   },
   "cell_type": "code",
   "source": [
    "import threading\n",
    "\n",
    "count = 0\n",
    "lock = threading.Lock()\n",
    "def add():\n",
    "    global count\n",
    "    global lock\n",
    "    for i in range(1000000):\n",
    "        lock.acquire()  # 獲取鎖\n",
    "        count += 1\n",
    "        lock.release()  # 釋放鎖\n",
    "def desc():\n",
    "    global count\n",
    "    global lock\n",
    "    for i in range(1000000):\n",
    "        lock.acquire()  # 獲取鎖\n",
    "        count -= 1\n",
    "        lock.release()  # 釋放鎖\n",
    "thread1 = threading.Thread(target=add)\n",
    "thread2 = threading.Thread(target=desc)\n",
    "thread1.start()\n",
    "thread2.start()\n",
    "thread1.join()\n",
    "thread2.join()\n",
    "print(count)\n"
   ],
   "id": "933b81a32a27ecf4",
   "outputs": [
    {
     "name": "stdout",
     "output_type": "stream",
     "text": [
      "0\n"
     ]
    }
   ],
   "execution_count": 58
  }
 ],
 "metadata": {
  "kernelspec": {
   "display_name": "Python 3",
   "language": "python",
   "name": "python3"
  },
  "language_info": {
   "codemirror_mode": {
    "name": "ipython",
    "version": 2
   },
   "file_extension": ".py",
   "mimetype": "text/x-python",
   "name": "python",
   "nbconvert_exporter": "python",
   "pygments_lexer": "ipython2",
   "version": "2.7.6"
  }
 },
 "nbformat": 4,
 "nbformat_minor": 5
}
