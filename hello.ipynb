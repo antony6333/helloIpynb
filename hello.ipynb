{
 "cells": [
  {
   "metadata": {},
   "cell_type": "markdown",
   "source": "test1234",
   "id": "9481cb220feed796"
  },
  {
   "metadata": {
    "ExecuteTime": {
     "end_time": "2025-02-14T16:50:05.120875Z",
     "start_time": "2025-02-14T16:50:05.116125Z"
    }
   },
   "cell_type": "code",
   "source": "print('hello world')",
   "id": "3abf288628f3baab",
   "outputs": [
    {
     "name": "stdout",
     "output_type": "stream",
     "text": [
      "hello world\n"
     ]
    }
   ],
   "execution_count": 1
  }
 ],
 "metadata": {
  "kernelspec": {
   "display_name": "Python 3",
   "language": "python",
   "name": "python3"
  },
  "language_info": {
   "codemirror_mode": {
    "name": "ipython",
    "version": 2
   },
   "file_extension": ".py",
   "mimetype": "text/x-python",
   "name": "python",
   "nbconvert_exporter": "python",
   "pygments_lexer": "ipython2",
   "version": "2.7.6"
  }
 },
 "nbformat": 4,
 "nbformat_minor": 5
}
