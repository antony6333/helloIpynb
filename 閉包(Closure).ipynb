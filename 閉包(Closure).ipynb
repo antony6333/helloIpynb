{
 "cells": [
  {
   "metadata": {},
   "cell_type": "markdown",
   "source": [
    "## 閉包(Closure)\n",
    "---\n",
    "閉包（Closure）是指 內部函式可以存取外部函式的變數，即使外部函式已經執行完畢並返回。這使得閉包可以保持對某些變數的「記憶」，在不同的環境中仍然可以使用它們。\n",
    "\n",
    "一個函式要形成閉包，必須滿足以下條件：\n",
    "  + 函式內部定義了一個嵌套函式（Inner Function）。\n",
    "  + 內部函式使用了外部函式的變數。\n",
    "  + 外部函式返回內部函式，而不是執行它。\n",
    "\n",
    "閉包 vs 全域變數 (閉包的好處)\n",
    "  + 避免全域變數污染：閉包讓變數局部化，減少影響範圍。\n",
    "  + 記住特定環境的值：即使外部函式執行完畢，內部函式仍然可以使用外部變數。\n",
    "  + 更靈活的函式設計：適合用來構建回呼函式（callback functions）或裝飾器（decorators）。"
   ],
   "id": "5bc07d9fbfaafed4"
  },
  {
   "metadata": {
    "ExecuteTime": {
     "end_time": "2025-02-25T22:19:15.810482Z",
     "start_time": "2025-02-25T22:19:15.805618Z"
    }
   },
   "cell_type": "code",
   "source": [
    "def counter():\n",
    "    count = 0  # 外部變數\n",
    "    def increase():\n",
    "        nonlocal count  # 使用 nonlocal 來修改外部變數\n",
    "        count += 1\n",
    "        return count\n",
    "    return increase\n",
    "\n",
    "count_func = counter()\n",
    "print(count_func())  # 1\n",
    "print(count_func())  # 2\n",
    "print(count_func())  # 3"
   ],
   "id": "f4bf9fb8d8258a84",
   "outputs": [
    {
     "name": "stdout",
     "output_type": "stream",
     "text": [
      "1\n",
      "2\n",
      "3\n"
     ]
    }
   ],
   "execution_count": 1
  },
  {
   "metadata": {},
   "cell_type": "markdown",
   "source": [
    "## 步驟解析\n",
    "1. 當 counter() 被呼叫時：\n",
    "    + count 變數被建立，並初始化為 0。\n",
    "    + increase() 函式被定義，但還沒有執行。\n",
    "    + counter() 返回 increase()，並且 count 仍然存在於 counter() 作用域內。\n",
    "2. 當 count_func = counter() 執行後：\n",
    "    + count_func 變成 increase()，但 count=0 仍然存在於記憶體中。\n",
    "    + count_func 仍然可以存取 count，因為 increase() 形成閉包，記住了 counter() 內的 count 變數。\n",
    "3. 當 count_func() 執行時：\n",
    "    + increase() 被呼叫，count 不會重新變成 0，而是繼續使用先前的值。\n",
    "    + nonlocal count 確保 count 變數可以在 increase() 內部修改，而不是創建新的 count 變數。\n",
    "    + 每次執行 count_func()，count 會累加 +1，而不是重新初始化為 0。\n",
    "\n",
    "### 為什麼 count 不會被覆蓋為 0？\n",
    "+ counter() 只執行一次，並返回 increase()。\n",
    "+ count 變數仍然存活在記憶體中，因為 increase()（閉包）持有對 count 的參考。\n",
    "+ count_func() 每次被呼叫時，是修改原來的 count，而不是重新建立 count。\n"
   ],
   "id": "d3ea00df5767e59b"
  }
 ],
 "metadata": {
  "kernelspec": {
   "display_name": "Python 3",
   "language": "python",
   "name": "python3"
  },
  "language_info": {
   "codemirror_mode": {
    "name": "ipython",
    "version": 2
   },
   "file_extension": ".py",
   "mimetype": "text/x-python",
   "name": "python",
   "nbconvert_exporter": "python",
   "pygments_lexer": "ipython2",
   "version": "2.7.6"
  }
 },
 "nbformat": 4,
 "nbformat_minor": 5
}
