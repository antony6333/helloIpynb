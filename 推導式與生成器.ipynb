{
 "cells": [
  {
   "metadata": {},
   "cell_type": "markdown",
   "source": [
    "## 推導式與生成器\n",
    "---\n",
    "### 推導式\n",
    "> 推導式的操作效能高於一般迴圈的操作，且程式碼更簡潔，但若是要進行較複雜的操作，為了維持可讀性，還是建議使用一般迴圈。"
   ],
   "id": "f302aee950b579dd"
  },
  {
   "metadata": {
    "ExecuteTime": {
     "end_time": "2025-02-17T08:37:54.662808Z",
     "start_time": "2025-02-17T08:37:54.636867Z"
    }
   },
   "cell_type": "code",
   "source": [
    "odd_list = [i for i in range(10) if i % 2 == 1]\n",
    "print(type(odd_list))\n",
    "print(odd_list)"
   ],
   "id": "2959aa57257e8789",
   "outputs": [
    {
     "name": "stdout",
     "output_type": "stream",
     "text": [
      "<class 'list'>\n",
      "[1, 3, 5, 7, 9]\n"
     ]
    }
   ],
   "execution_count": 6
  },
  {
   "metadata": {},
   "cell_type": "markdown",
   "source": "### 生成器\n",
   "id": "51c337ec27819b09"
  },
  {
   "metadata": {
    "ExecuteTime": {
     "end_time": "2025-02-17T08:38:44.382938Z",
     "start_time": "2025-02-17T08:38:44.365252Z"
    }
   },
   "cell_type": "code",
   "source": [
    "odd_list = (i for i in range(10) if i % 2 == 1)  # 生成器物件 (不要誤會成 tuple)\n",
    "print(type(odd_list))\n",
    "print(odd_list)\n",
    "for i in odd_list:\n",
    "    print(i, end=\", \")"
   ],
   "id": "e37fbbaaa00fda9d",
   "outputs": [
    {
     "name": "stdout",
     "output_type": "stream",
     "text": [
      "<class 'generator'>\n",
      "<generator object <genexpr> at 0x000001F7A3C8DB10>\n",
      "1, 3, 5, 7, 9, "
     ]
    }
   ],
   "execution_count": 9
  },
  {
   "metadata": {},
   "cell_type": "markdown",
   "source": "## 字典推導式",
   "id": "a1d952e7a8fb5eb4"
  },
  {
   "metadata": {
    "ExecuteTime": {
     "end_time": "2025-02-17T08:48:48.279515Z",
     "start_time": "2025-02-17T08:48:48.261696Z"
    }
   },
   "cell_type": "code",
   "source": [
    "person = {\"name\": \"John\", \"age\": 30, \"city\": \"New York\", \"male\":True}\n",
    "person_dict = {key: value for key, value in person.items()}\n",
    "print(type(person_dict))\n",
    "print(person_dict)"
   ],
   "id": "4bb10435b34ed737",
   "outputs": [
    {
     "name": "stdout",
     "output_type": "stream",
     "text": [
      "<class 'dict'>\n",
      "{'name': 'John', 'age': 30, 'city': 'New York', 'male': True}\n"
     ]
    }
   ],
   "execution_count": 12
  },
  {
   "metadata": {},
   "cell_type": "markdown",
   "source": "## 集合推導式",
   "id": "7e40d5fa8f169175"
  },
  {
   "metadata": {
    "ExecuteTime": {
     "end_time": "2025-02-17T08:48:57.426653Z",
     "start_time": "2025-02-17T08:48:57.409104Z"
    }
   },
   "cell_type": "code",
   "source": [
    "person = {\"name\": \"John\", \"age\": 30, \"city\": \"New York\", \"male\":True}\n",
    "person_set = {key for key, value in person.items()}\n",
    "print(type(person_set))\n",
    "print(person_set)"
   ],
   "id": "1e3c5cc6d83311c5",
   "outputs": [
    {
     "name": "stdout",
     "output_type": "stream",
     "text": [
      "<class 'set'>\n",
      "{'male', 'name', 'age', 'city'}\n"
     ]
    }
   ],
   "execution_count": 13
  }
 ],
 "metadata": {
  "kernelspec": {
   "name": "python3",
   "language": "python",
   "display_name": "Python 3 (ipykernel)"
  }
 },
 "nbformat": 5,
 "nbformat_minor": 9
}
