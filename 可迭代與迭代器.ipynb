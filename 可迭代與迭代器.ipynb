{
 "cells": [
  {
   "metadata": {},
   "cell_type": "markdown",
   "source": [
    "## 可迭代(Iterable)與迭代器(Iterator)\n",
    "---\n",
    "判斷 Iterable 或 Iterator 的方法:"
   ],
   "id": "16249af35d99c6df"
  },
  {
   "metadata": {
    "ExecuteTime": {
     "end_time": "2025-02-21T07:06:38.183613Z",
     "start_time": "2025-02-21T07:06:38.154360Z"
    }
   },
   "cell_type": "code",
   "source": [
    "from collections.abc import Iterable, Iterator\n",
    "\n",
    "lst = [1, 2, 3]\n",
    "lst_iterator = iter(lst)\n",
    "\n",
    "print(isinstance(lst, Iterable))   # True (是 Iterable)\n",
    "print(isinstance(lst, Iterator))   # False\n",
    "\n",
    "print(isinstance(lst_iterator, Iterable))    # True (Iterator 也是 Iterable)\n",
    "print(isinstance(lst_iterator, Iterator))    # True (是 Iterator)\n"
   ],
   "id": "ba01bca3232dca1d",
   "outputs": [
    {
     "name": "stdout",
     "output_type": "stream",
     "text": [
      "True\n",
      "False\n",
      "True\n",
      "True\n"
     ]
    }
   ],
   "execution_count": 2
  },
  {
   "metadata": {},
   "cell_type": "markdown",
   "source": [
    "+ Iterable(可迭代)：可以被迭代的對象，如 list、tuple、dict、set、str等，或類別中實作__getitem__()，可用於 for 迴圈。\n",
    "+ Iterator(迭代器)：用於遍歷 Iterable 的對象，如 iter() 函數返回的對象，可用 next()函數獲取下一個值，只能遍歷一次且不能重新遍歷，迭代器本身也是一個可迭代對象。\n",
    "\n",
    "---\n",
    "1. Iterable 可迭代類別"
   ],
   "id": "7d56aa00dc7800af"
  },
  {
   "metadata": {
    "ExecuteTime": {
     "end_time": "2025-02-20T11:18:14.989797Z",
     "start_time": "2025-02-20T11:18:14.969512Z"
    }
   },
   "cell_type": "code",
   "source": [
    "class MyIterable:\n",
    "    def __init__(self, data):\n",
    "        self.data = data\n",
    "    def __iter__(self):            # 迴圈操作先找這個\n",
    "        return iter(self.data)\n",
    "    def __getitem__(self, item):   # 如果沒有__iter__，迴圈操作會找這個\n",
    "        return self.data[item]\n",
    "\n",
    "obj = MyIterable([1, 2, 3])\n",
    "print (isinstance(obj, Iterable))  # True\n",
    "print (isinstance(obj, Iterator))  # False\n",
    "for i in obj:\n",
    "    print(i)"
   ],
   "id": "e71b1dbc1b186574",
   "outputs": [
    {
     "name": "stdout",
     "output_type": "stream",
     "text": [
      "True\n",
      "False\n",
      "1\n",
      "2\n",
      "3\n"
     ]
    }
   ],
   "execution_count": 5
  },
  {
   "metadata": {},
   "cell_type": "markdown",
   "source": "2. Iterator 迭代器類別",
   "id": "ba99de3fb88aa9da"
  },
  {
   "metadata": {
    "ExecuteTime": {
     "end_time": "2025-02-20T11:42:06.041488Z",
     "start_time": "2025-02-20T11:42:06.004646Z"
    }
   },
   "cell_type": "code",
   "source": [
    "class MyIterator(Iterator):\n",
    "    def __init__(self, data):\n",
    "        self.data = data\n",
    "        self.index = 0\n",
    "    def __next__(self):\n",
    "        if self.index >= len(self.data):\n",
    "            raise StopIteration\n",
    "        value = self.data[self.index]\n",
    "        self.index += 1\n",
    "        return value\n",
    "\n",
    "class MyData:\n",
    "    def __init__(self, data):\n",
    "        self.data = data\n",
    "    def __iter__(self):  # 可迭代對象實作交由迭代器處理\n",
    "        return MyIterator(self.data)\n",
    "\n",
    "obj = MyData([1, 2, 3])\n",
    "for i in obj:\n",
    "    print(i)\n",
    "\n",
    "iterator = iter(obj)  # 通常上面用迴圈直接取得較方便\n",
    "print (isinstance(iterator, Iterable))  # True\n",
    "print (isinstance(iterator, Iterator))  # True\n",
    "while True:\n",
    "    try:  # 這是迭代器的用法, 單向一次性往後next取值\n",
    "        print(next(iterator))\n",
    "    except StopIteration:\n",
    "        break\n"
   ],
   "id": "3805647c0fc422fa",
   "outputs": [
    {
     "name": "stdout",
     "output_type": "stream",
     "text": [
      "1\n",
      "2\n",
      "3\n",
      "True\n",
      "True\n",
      "1\n",
      "2\n",
      "3\n"
     ]
    }
   ],
   "execution_count": 13
  }
 ],
 "metadata": {
  "kernelspec": {
   "display_name": "Python 3",
   "language": "python",
   "name": "python3"
  },
  "language_info": {
   "codemirror_mode": {
    "name": "ipython",
    "version": 2
   },
   "file_extension": ".py",
   "mimetype": "text/x-python",
   "name": "python",
   "nbconvert_exporter": "python",
   "pygments_lexer": "ipython2",
   "version": "2.7.6"
  }
 },
 "nbformat": 4,
 "nbformat_minor": 5
}
