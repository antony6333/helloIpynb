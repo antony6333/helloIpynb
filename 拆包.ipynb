{
 "cells": [
  {
   "metadata": {},
   "cell_type": "markdown",
   "source": [
    "## 拆包\n",
    "---\n",
    "一、 *符號 (單星號)：序列拆包"
   ],
   "id": "1a7a81983ccac3f"
  },
  {
   "metadata": {
    "ExecuteTime": {
     "end_time": "2025-03-05T06:20:36.540135Z",
     "start_time": "2025-03-05T06:20:36.514317Z"
    }
   },
   "cell_type": "code",
   "source": [
    "# 1. 函數參數中的可變位置參數\n",
    "def sum_all(*numbers):\n",
    "    return sum(numbers)\n",
    "\n",
    "print(sum_all(1, 2, 3, 4, 5))  # 15"
   ],
   "id": "cf284e3ad801b8de",
   "outputs": [
    {
     "name": "stdout",
     "output_type": "stream",
     "text": [
      "15\n"
     ]
    }
   ],
   "execution_count": 1
  },
  {
   "metadata": {
    "ExecuteTime": {
     "end_time": "2025-03-05T06:20:46.290512Z",
     "start_time": "2025-03-05T06:20:46.266737Z"
    }
   },
   "cell_type": "code",
   "source": [
    "# 2. 拆包序列\n",
    "numbers = [1, 2, 3]\n",
    "print(*numbers)  #等同於 print(1, 2, 3)"
   ],
   "id": "87a7bdc7fac694ce",
   "outputs": [
    {
     "name": "stdout",
     "output_type": "stream",
     "text": [
      "1 2 3\n"
     ]
    }
   ],
   "execution_count": 2
  },
  {
   "metadata": {
    "ExecuteTime": {
     "end_time": "2025-03-05T06:21:27.562326Z",
     "start_time": "2025-03-05T06:21:27.542820Z"
    }
   },
   "cell_type": "code",
   "source": [
    "# 3. 在賦值時收集剩餘元素\n",
    "first, *rest = [1, 2, 3, 4, 5]\n",
    "print(first)  # 1\n",
    "print(rest)   # [2, 3, 4, 5]\n",
    "\n",
    "*beginning, last = [1, 2, 3, 4, 5]\n",
    "print(beginning)  # [1, 2, 3, 4]\n",
    "print(last)       # 5"
   ],
   "id": "eb6de45786938ffa",
   "outputs": [
    {
     "name": "stdout",
     "output_type": "stream",
     "text": [
      "1\n",
      "[2, 3, 4, 5]\n",
      "[1, 2, 3, 4]\n",
      "5\n"
     ]
    }
   ],
   "execution_count": 3
  },
  {
   "metadata": {},
   "cell_type": "markdown",
   "source": "二、 ** 符號 (雙星號)：字典拆包",
   "id": "263fb7926d6e3fd1"
  },
  {
   "metadata": {
    "ExecuteTime": {
     "end_time": "2025-03-05T06:22:41.275844Z",
     "start_time": "2025-03-05T06:22:41.261099Z"
    }
   },
   "cell_type": "code",
   "source": [
    "# 1. 函數參數中的可變關鍵字參數\n",
    "def display_info(**kwargs):\n",
    "    for key, value in kwargs.items():\n",
    "        print(f\"{key}: {value}\")\n",
    "\n",
    "display_info(name=\"張三\", age=30, city=\"台北\")"
   ],
   "id": "fdd84311aadfab25",
   "outputs": [
    {
     "name": "stdout",
     "output_type": "stream",
     "text": [
      "name: 張三\n",
      "age: 30\n",
      "city: 台北\n"
     ]
    }
   ],
   "execution_count": 4
  },
  {
   "metadata": {
    "ExecuteTime": {
     "end_time": "2025-03-05T06:24:10.112607Z",
     "start_time": "2025-03-05T06:24:10.089382Z"
    }
   },
   "cell_type": "code",
   "source": [
    "# 2. 字典拆包作為函數參數\n",
    "person = {\"name\": \"李四\", \"age\": 25}\n",
    "display_info(**person)  # 將字典拆包為 name=\"李四\", age=25"
   ],
   "id": "3620b2c8f601a1a4",
   "outputs": [
    {
     "name": "stdout",
     "output_type": "stream",
     "text": [
      "name: 李四\n",
      "age: 25\n"
     ]
    }
   ],
   "execution_count": 5
  },
  {
   "metadata": {
    "ExecuteTime": {
     "end_time": "2025-03-05T06:24:40.895289Z",
     "start_time": "2025-03-05T06:24:40.875280Z"
    }
   },
   "cell_type": "code",
   "source": [
    "# 3. 合併字典\n",
    "dict1 = {\"a\": 1, \"b\": 2}\n",
    "dict2 = {\"b\": 3, \"c\": 4}\n",
    "merged = {**dict1, **dict2}  # 注意重複鍵的值會被後面的覆蓋\n",
    "print(merged)  # {'a': 1, 'b': 3, 'c': 4}"
   ],
   "id": "5c08ec40fe41df",
   "outputs": [
    {
     "name": "stdout",
     "output_type": "stream",
     "text": [
      "{'a': 1, 'b': 3, 'c': 4}\n"
     ]
    }
   ],
   "execution_count": 6
  },
  {
   "metadata": {
    "ExecuteTime": {
     "end_time": "2025-03-05T06:25:36.586529Z",
     "start_time": "2025-03-05T06:25:36.565404Z"
    }
   },
   "cell_type": "code",
   "source": [
    "# 4. 在類實例化時傳遞參數\n",
    "class Person:\n",
    "    def __init__(self, name, age, city):\n",
    "        self.name = name\n",
    "        self.age = age\n",
    "        self.city = city\n",
    "\n",
    "    def __str__(self):\n",
    "        return f\"{self.name}, {self.age}歲, 來自{self.city}\"\n",
    "\n",
    "person_info = {\"name\": \"王五\", \"age\": 35, \"city\": \"高雄\"}\n",
    "person = Person(**person_info)\n",
    "print(person)  # 王五, 35歲, 來自高雄"
   ],
   "id": "2c78b91e0f20383f",
   "outputs": [
    {
     "name": "stdout",
     "output_type": "stream",
     "text": [
      "王五, 35歲, 來自高雄\n"
     ]
    }
   ],
   "execution_count": 7
  }
 ],
 "metadata": {
  "kernelspec": {
   "display_name": "Python 3",
   "language": "python",
   "name": "python3"
  },
  "language_info": {
   "codemirror_mode": {
    "name": "ipython",
    "version": 2
   },
   "file_extension": ".py",
   "mimetype": "text/x-python",
   "name": "python",
   "nbconvert_exporter": "python",
   "pygments_lexer": "ipython2",
   "version": "2.7.6"
  }
 },
 "nbformat": 4,
 "nbformat_minor": 5
}
