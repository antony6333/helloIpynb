{
 "cells": [
  {
   "metadata": {},
   "cell_type": "markdown",
   "source": [
    "## 容器工具 zip\n",
    "---"
   ],
   "id": "c74f8e30ff0780d3"
  },
  {
   "metadata": {},
   "cell_type": "code",
   "outputs": [],
   "execution_count": null,
   "source": [
    "# Basic usage of zip()\n",
    "names = ['Alice', 'Bob', 'Charlie']\n",
    "ages = [25, 30, 35]\n",
    "cities = ['New York', 'San Francisco', 'Seattle']\n",
    "\n",
    "# Combining lists with zip()\n",
    "zipped = zip(names, ages, cities)\n",
    "print(list(zipped))"
   ],
   "id": "8a81687214f2bd80"
  },
  {
   "metadata": {},
   "cell_type": "code",
   "outputs": [],
   "execution_count": null,
   "source": [
    "# Using zip() for parallel iteration\n",
    "names = ['Alice', 'Bob', 'Charlie']\n",
    "ages = [25, 30, 35]\n",
    "\n",
    "for name, age in zip(names, ages):\n",
    "    print(f\"{name} is {age} years old\")"
   ],
   "id": "fc510c8c7df3857"
  },
  {
   "metadata": {},
   "cell_type": "code",
   "outputs": [],
   "execution_count": null,
   "source": [
    "# Creating dictionaries with zip()\n",
    "keys = ['name', 'age', 'city']\n",
    "values = ['Alice', 25, 'New York']\n",
    "\n",
    "person = dict(zip(keys, values))\n",
    "print(person)"
   ],
   "id": "5c5ff2e2c01f5434"
  },
  {
   "metadata": {},
   "cell_type": "code",
   "outputs": [],
   "execution_count": null,
   "source": [
    "# Unzipping with zip(*zipped)\n",
    "zipped_data = [('Alice', 25), ('Bob', 30), ('Charlie', 35)]\n",
    "names, ages = zip(*zipped_data)\n",
    "\n",
    "print(f\"Names: {names}\")\n",
    "print(f\"Ages: {ages}\")"
   ],
   "id": "17428e01bd852465"
  },
  {
   "metadata": {},
   "cell_type": "code",
   "outputs": [],
   "execution_count": null,
   "source": [
    "# Handling different length iterables\n",
    "names = ['Alice', 'Bob', 'Charlie', 'David']\n",
    "ages = [25, 30, 35]\n",
    "\n",
    "# zip() stops at the shortest iterable\n",
    "print(list(zip(names, ages)))\n",
    "\n",
    "# Using zip_longest from itertools\n",
    "from itertools import zip_longest\n",
    "print(list(zip_longest(names, ages, fillvalue='N/A')))"
   ],
   "id": "4e6966eeeb8788c9"
  },
  {
   "metadata": {},
   "cell_type": "code",
   "outputs": [],
   "execution_count": null,
   "source": [
    "# Matrix transposition with zip()\n",
    "matrix = [\n",
    "    [1, 2, 3],\n",
    "    [4, 5, 6],\n",
    "    [7, 8, 9]\n",
    "]\n",
    "\n",
    "transposed = list(zip(*matrix))\n",
    "print(\"Original matrix:\")\n",
    "for row in matrix:\n",
    "    print(row)\n",
    "\n",
    "print(\"\\nTransposed matrix:\")\n",
    "for row in transposed:\n",
    "    print(row)"
   ],
   "id": "eeb1e8ce90c4eb1f"
  },
  {
   "metadata": {},
   "cell_type": "code",
   "outputs": [],
   "execution_count": null,
   "source": [
    "# List comprehension with zip()\n",
    "names = ['Alice', 'Bob', 'Charlie']\n",
    "ages = [25, 30, 35]\n",
    "\n",
    "# Creating a list of formatted strings\n",
    "info = [f\"{name} is {age}\" for name, age in zip(names, ages)]\n",
    "print(info)"
   ],
   "id": "dc4daca8e0cbd5a6"
  },
  {
   "metadata": {},
   "cell_type": "code",
   "outputs": [],
   "execution_count": null,
   "source": [
    "# Enumerate alternative with zip()\n",
    "names = ['Alice', 'Bob', 'Charlie']\n",
    "\n",
    "# Similar to enumerate() function\n",
    "for i, name in zip(range(len(names)), names):\n",
    "    print(f\"{i}: {name}\")"
   ],
   "id": "80b3556639b431c1"
  }
 ],
 "metadata": {},
 "nbformat": 5,
 "nbformat_minor": 9
}
