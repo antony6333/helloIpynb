{
 "cells": [
  {
   "metadata": {},
   "cell_type": "markdown",
   "source": [
    "## 動態創建類別\n",
    "---\n",
    "1. 類別也是一種物件，可以在運行時被創建。"
   ],
   "id": "2fda2d1f467aad54"
  },
  {
   "metadata": {
    "ExecuteTime": {
     "end_time": "2025-02-20T07:03:22.795950Z",
     "start_time": "2025-02-20T07:03:22.764650Z"
    }
   },
   "cell_type": "code",
   "source": [
    "def create_class(name):\n",
    "    if name == \"Person\":\n",
    "        class Person:\n",
    "            def __init__(self, name):\n",
    "                self.name = name\n",
    "        return Person\n",
    "    else:\n",
    "        class Animal:\n",
    "            def __init__(self, name):\n",
    "                self.name = name\n",
    "        return Animal\n",
    "\n",
    "Person = create_class(\"Person\")\n",
    "person = Person(\"Alice\")\n",
    "print(f\"{person.name} in class:{type(person)}\")"
   ],
   "id": "2f46ababc011742c",
   "outputs": [
    {
     "name": "stdout",
     "output_type": "stream",
     "text": [
      "Alice in class:<class '__main__.create_class.<locals>.Person'>\n"
     ]
    }
   ],
   "execution_count": 4
  },
  {
   "metadata": {},
   "cell_type": "markdown",
   "source": "2. 使用type()函數創建類別",
   "id": "6ce34becda1fa8c4"
  },
  {
   "metadata": {
    "ExecuteTime": {
     "end_time": "2025-02-20T07:25:11.699149Z",
     "start_time": "2025-02-20T07:25:11.667704Z"
    }
   },
   "cell_type": "code",
   "source": [
    "Animal = type(\"Animal\", (object,), {\"__init__\": lambda self, name: setattr(self, \"name\", name)})\n",
    "animal = Animal(\"Dog\")\n",
    "print(f\"{animal.name} in class:{type(animal)}\")\n",
    "\n",
    "def sum_people(self):\n",
    "    return 10000\n",
    "class BaseClass:\n",
    "    def get_nation(self):\n",
    "        return \"Taiwan\"\n",
    "\n",
    "City = type(\"City\", (BaseClass,), {\"name\":\"taipei\", \"sum_people\":sum_people})\n",
    "city = City()\n",
    "print(f\"{city.name} in class:{type(city)}, sum_people:{city.sum_people()}, nation:{city.get_nation()}\")"
   ],
   "id": "76b421a46062b395",
   "outputs": [
    {
     "name": "stdout",
     "output_type": "stream",
     "text": [
      "Dog in class:<class '__main__.Animal'>\n",
      "taipei in class:<class '__main__.City'>, sum_people:10000, nation:Taiwan\n"
     ]
    }
   ],
   "execution_count": 8
  }
 ],
 "metadata": {
  "kernelspec": {
   "display_name": "Python 3",
   "language": "python",
   "name": "python3"
  },
  "language_info": {
   "codemirror_mode": {
    "name": "ipython",
    "version": 2
   },
   "file_extension": ".py",
   "mimetype": "text/x-python",
   "name": "python",
   "nbconvert_exporter": "python",
   "pygments_lexer": "ipython2",
   "version": "2.7.6"
  }
 },
 "nbformat": 4,
 "nbformat_minor": 5
}
