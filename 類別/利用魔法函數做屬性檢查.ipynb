{
 "cells": [
  {
   "metadata": {},
   "cell_type": "markdown",
   "source": [
    "## 利用魔法函數做屬性檢查\n",
    "---\n"
   ],
   "id": "1710caf69e75491"
  },
  {
   "metadata": {
    "ExecuteTime": {
     "end_time": "2025-02-20T03:46:18.402723Z",
     "start_time": "2025-02-20T03:46:18.277692Z"
    }
   },
   "cell_type": "code",
   "source": [
    "class IntField:\n",
    "    def __init__(self):\n",
    "        self.name = None\n",
    "\n",
    "    def __get__(self, instance, owner):\n",
    "        if instance is None:\n",
    "            return self\n",
    "        return instance.__dict__.get(self.name, None)\n",
    "\n",
    "    def __set__(self, instance, value):\n",
    "        if not isinstance(value, int):\n",
    "            raise TypeError(\"must be an integer.\")\n",
    "        if value < 0:\n",
    "            raise ValueError(\"must be >= 0.\")\n",
    "        instance.__dict__[self.name] = value\n",
    "        print(f\"Setting {self.name} to {value}\")\n",
    "\n",
    "    def __set_name__(self, owner, name):\n",
    "        print(f\"__set_name__ called for {name}\")\n",
    "        self.name = name\n",
    "\n",
    "class User:\n",
    "    age = IntField()\n",
    "    num_of_family = IntField()\n",
    "\n",
    "user = User()\n",
    "user.age = 30\n",
    "user2 = User()\n",
    "user2.age = 25\n",
    "print(user.age)\n",
    "print(getattr(user2, \"age\")) # 這個命令也可以取得物件屬性值\n",
    "user.age = \"30\"  # 會引發 TypeError: must be an integer."
   ],
   "id": "9e4b48f0e599dbb",
   "outputs": [
    {
     "name": "stdout",
     "output_type": "stream",
     "text": [
      "__set_name__ called for age\n",
      "__set_name__ called for num_of_family\n",
      "Setting age to 30\n",
      "Setting age to 25\n",
      "30\n",
      "25\n"
     ]
    },
    {
     "ename": "TypeError",
     "evalue": "must be an integer.",
     "output_type": "error",
     "traceback": [
      "\u001B[1;31m---------------------------------------------------------------------------\u001B[0m",
      "\u001B[1;31mTypeError\u001B[0m                                 Traceback (most recent call last)",
      "Cell \u001B[1;32mIn[16], line 32\u001B[0m\n\u001B[0;32m     30\u001B[0m \u001B[38;5;28mprint\u001B[39m(user\u001B[38;5;241m.\u001B[39mage)\n\u001B[0;32m     31\u001B[0m \u001B[38;5;28mprint\u001B[39m(\u001B[38;5;28mgetattr\u001B[39m(user2, \u001B[38;5;124m\"\u001B[39m\u001B[38;5;124mage\u001B[39m\u001B[38;5;124m\"\u001B[39m)) \u001B[38;5;66;03m# 這個命令也可以取得物件屬性值\u001B[39;00m\n\u001B[1;32m---> 32\u001B[0m \u001B[43muser\u001B[49m\u001B[38;5;241;43m.\u001B[39;49m\u001B[43mage\u001B[49m \u001B[38;5;241m=\u001B[39m \u001B[38;5;124m\"\u001B[39m\u001B[38;5;124m30\u001B[39m\u001B[38;5;124m\"\u001B[39m  \u001B[38;5;66;03m# 會引發 TypeError: must be an integer.\u001B[39;00m\n",
      "Cell \u001B[1;32mIn[16], line 12\u001B[0m, in \u001B[0;36mIntField.__set__\u001B[1;34m(self, instance, value)\u001B[0m\n\u001B[0;32m     10\u001B[0m \u001B[38;5;28;01mdef\u001B[39;00m\u001B[38;5;250m \u001B[39m\u001B[38;5;21m__set__\u001B[39m(\u001B[38;5;28mself\u001B[39m, instance, value):\n\u001B[0;32m     11\u001B[0m     \u001B[38;5;28;01mif\u001B[39;00m \u001B[38;5;129;01mnot\u001B[39;00m \u001B[38;5;28misinstance\u001B[39m(value, \u001B[38;5;28mint\u001B[39m):\n\u001B[1;32m---> 12\u001B[0m         \u001B[38;5;28;01mraise\u001B[39;00m \u001B[38;5;167;01mTypeError\u001B[39;00m(\u001B[38;5;124m\"\u001B[39m\u001B[38;5;124mmust be an integer.\u001B[39m\u001B[38;5;124m\"\u001B[39m)\n\u001B[0;32m     13\u001B[0m     \u001B[38;5;28;01mif\u001B[39;00m value \u001B[38;5;241m<\u001B[39m \u001B[38;5;241m0\u001B[39m:\n\u001B[0;32m     14\u001B[0m         \u001B[38;5;28;01mraise\u001B[39;00m \u001B[38;5;167;01mValueError\u001B[39;00m(\u001B[38;5;124m\"\u001B[39m\u001B[38;5;124mmust be >= 0.\u001B[39m\u001B[38;5;124m\"\u001B[39m)\n",
      "\u001B[1;31mTypeError\u001B[0m: must be an integer."
     ]
    }
   ],
   "execution_count": 16
  },
  {
   "metadata": {},
   "cell_type": "markdown",
   "source": "user.age與user.num_of_family是IntField物件，具有__get__和__set__方法，因此可以直接由User物件存取，且可以進行型別檢查，若不符合條件則會引發TypeError或ValueError。",
   "id": "afbc108939cbc43"
  },
  {
   "metadata": {},
   "cell_type": "markdown",
   "source": [
    "## 注意:\n",
    "> 儘管 User.age 是在類別層級定義的描述器，但當你對某個實例賦值時（例如 user.age = 25），實際上調用的是 IntField 的 __set__ 方法，而該方法會把值存入該實例的 __dict__ 中。這使得每個 User 實例都能擁有獨立的 age 屬性，從使用上看就像是實例變數一樣。\n"
   ],
   "id": "debdbc51a84eecb5"
  }
 ],
 "metadata": {
  "kernelspec": {
   "display_name": "Python 3",
   "language": "python",
   "name": "python3"
  },
  "language_info": {
   "codemirror_mode": {
    "name": "ipython",
    "version": 2
   },
   "file_extension": ".py",
   "mimetype": "text/x-python",
   "name": "python",
   "nbconvert_exporter": "python",
   "pygments_lexer": "ipython2",
   "version": "2.7.6"
  }
 },
 "nbformat": 4,
 "nbformat_minor": 5
}
