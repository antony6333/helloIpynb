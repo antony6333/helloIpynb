{
 "cells": [
  {
   "metadata": {},
   "cell_type": "markdown",
   "source": [
    "## 類別屬性處理\n",
    "---\n",
    "python中類似於java POJO getter() setter() 要如何做\n",
    "> ✅ 方法 1：使用 @property 裝飾器（推薦）\n",
    "Python 中最「Pythonic」的做法是使用 @property 來實現 getter 和 setter，不需要像 Java 那樣手動寫 getX() 和 setX() 方法。"
   ],
   "id": "79899080e6893836"
  },
  {
   "metadata": {
    "ExecuteTime": {
     "end_time": "2025-02-20T00:19:13.797878Z",
     "start_time": "2025-02-20T00:19:13.776642Z"
    }
   },
   "cell_type": "code",
   "source": [
    "class Person:\n",
    "    def __init__(self, name, age):\n",
    "        self._name = name  # 用單底線表示「受保護」變數\n",
    "        self._age = age\n",
    "\n",
    "    @property\n",
    "    def name(self):\n",
    "        return self._name  # getter\n",
    "\n",
    "    @name.setter\n",
    "    def name(self, value):\n",
    "        if not value:\n",
    "            raise ValueError(\"Name cannot be empty\")\n",
    "        self._name = value  # setter\n",
    "\n",
    "    @property\n",
    "    def age(self):\n",
    "        return self._age\n",
    "\n",
    "    @age.setter\n",
    "    def age(self, value):\n",
    "        if value < 0:\n",
    "            raise ValueError(\"Age cannot be negative\")\n",
    "        self._age = value\n",
    "\n",
    "# 使用\n",
    "person = Person(\"Alice\", 30)\n",
    "print(person.name)  # 使用 getter -> \"Alice\"\n",
    "\n",
    "person.name = \"Bob\"  # 使用 setter\n",
    "print(person.name)   # \"Bob\"\n",
    "\n",
    "# person.age = -5  # 會引發 ValueError: Age cannot be negative"
   ],
   "id": "ffc74737ed4ea8fe",
   "outputs": [
    {
     "name": "stdout",
     "output_type": "stream",
     "text": [
      "Alice\n",
      "Bob\n"
     ]
    }
   ],
   "execution_count": 3
  },
  {
   "metadata": {},
   "cell_type": "markdown",
   "source": [
    "> ✅ 方法 2：使用 dataclasses 簡化 (Python 3.7+)\n",
    "如果只是需要一個簡單的數據容器，可以使用 dataclass，自動生成 __init__、__repr__ 等方法，還能自訂 getter/setter"
   ],
   "id": "b8e5dfa9202fd8d0"
  },
  {
   "metadata": {
    "ExecuteTime": {
     "end_time": "2025-02-20T00:20:10.737070Z",
     "start_time": "2025-02-20T00:20:10.717755Z"
    }
   },
   "cell_type": "code",
   "source": [
    "from dataclasses import dataclass\n",
    "\n",
    "@dataclass\n",
    "class Person:\n",
    "    name: str\n",
    "    age: int\n",
    "\n",
    "# 使用\n",
    "person = Person(\"Alice\", 30)\n",
    "print(person.name)  # \"Alice\"\n",
    "\n",
    "person.name = \"Bob\"  # 直接賦值\n",
    "print(person.name)   # \"Bob\"\n"
   ],
   "id": "66b151cca1299186",
   "outputs": [
    {
     "name": "stdout",
     "output_type": "stream",
     "text": [
      "Alice\n",
      "Bob\n"
     ]
    }
   ],
   "execution_count": 4
  },
  {
   "metadata": {},
   "cell_type": "markdown",
   "source": "Person裡的name及age是public的，如果要設定為private的話，可以在變數前加上雙底線__ (其實真要存取還是可以拿的到)，且這兩個皆是實例變數，不是類別靜態變數，若是需要類別靜態變數，使用ClassVar",
   "id": "5370356ed60892cf"
  },
  {
   "metadata": {
    "ExecuteTime": {
     "end_time": "2025-02-20T00:27:22.052939Z",
     "start_time": "2025-02-20T00:27:22.019912Z"
    }
   },
   "cell_type": "code",
   "source": [
    "from dataclasses import dataclass, field\n",
    "from typing import ClassVar\n",
    "\n",
    "@dataclass\n",
    "class Person:\n",
    "    species: ClassVar[str] = \"Homo sapiens\"  # 靜態屬性\n",
    "    name: str\n",
    "    age: int\n",
    "\n",
    "# 使用\n",
    "p1 = Person(\"Alice\", 30)\n",
    "p2 = Person(\"Bob\", 25)\n",
    "\n",
    "print(p1.species)  # \"Homo sapiens\"\n",
    "print(p2.species)  # \"Homo sapiens\"\n",
    "\n",
    "# 修改靜態屬性\n",
    "Person.species = \"Cyborg\"\n",
    "print(p1.species)  # \"Cyborg\"\n",
    "print(p2.species)  # \"Cyborg\"\n"
   ],
   "id": "e25264400ae5173c",
   "outputs": [
    {
     "name": "stdout",
     "output_type": "stream",
     "text": [
      "Homo sapiens\n",
      "Homo sapiens\n",
      "Cyborg\n",
      "Cyborg\n"
     ]
    }
   ],
   "execution_count": 5
  }
 ],
 "metadata": {
  "kernelspec": {
   "display_name": "Python 3",
   "language": "python",
   "name": "python3"
  },
  "language_info": {
   "codemirror_mode": {
    "name": "ipython",
    "version": 2
   },
   "file_extension": ".py",
   "mimetype": "text/x-python",
   "name": "python",
   "nbconvert_exporter": "python",
   "pygments_lexer": "ipython2",
   "version": "2.7.6"
  }
 },
 "nbformat": 4,
 "nbformat_minor": 5
}
