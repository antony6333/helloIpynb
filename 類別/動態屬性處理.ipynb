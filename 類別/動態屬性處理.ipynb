{
 "cells": [
  {
   "metadata": {},
   "cell_type": "markdown",
   "source": [
    "---\n",
    "## 動態屬性魔法函數 \\_\\_getattr\\_\\_ 與 \\_\\_getattribute\\_\\_ 的差異\n",
    "1. \\_\\_getattribute\\_\\_\n",
    "> 用途：攔截所有的屬性訪問(不管屬性是否已經存在)。<BR>\n",
    "觸發時機：當訪問物件的任何屬性時，\\_\\_getattribute\\_\\_ 都會被呼叫。<BR>\n",
    "使用情境：如果你想要完全掌控物件屬性的存取行為，就使用它。<BR>\n",
    "注意事項：必須使用 super().\\_\\_getattribute\\_\\_(name) 或 object.\\_\\_getattribute\\_\\_(self, name) 來避免無限遞迴。"
   ],
   "id": "7d5dc812a139c57a"
  },
  {
   "metadata": {
    "ExecuteTime": {
     "end_time": "2025-02-20T01:51:37.891499Z",
     "start_time": "2025-02-20T01:51:37.867815Z"
    }
   },
   "cell_type": "code",
   "source": [
    "class MyClass:\n",
    "    def __getattribute__(self, name):\n",
    "        print(f\"__getattribute__ called for {name}\")\n",
    "        return super().__getattribute__(name)\n",
    "\n",
    "    def __init__(self):\n",
    "        self.x = 10\n",
    "\n",
    "obj = MyClass()\n",
    "print(obj.x)  # 會先印出 \"__getattribute__ called for x\"，然後回傳 10\n"
   ],
   "id": "9ac1aeafca4a2009",
   "outputs": [
    {
     "name": "stdout",
     "output_type": "stream",
     "text": [
      "__getattribute__ called for x\n",
      "10\n"
     ]
    }
   ],
   "execution_count": 1
  },
  {
   "metadata": {},
   "cell_type": "markdown",
   "source": [
    "2. \\_\\_getattr\\_\\_ (較常用)\n",
    "> 用途：僅在屬性不存在時被呼叫。<BR>\n",
    "觸發時機：當 Python 找不到指定的屬性時，才會呼叫 \\_\\_getattr\\_\\_。<BR>\n",
    "使用情境：適合用來提供預設值或動態產生屬性。<BR>\n",
    "注意事項：\\_\\_getattr\\_\\_ 不會攔截已存在的屬性。"
   ],
   "id": "e78d94d399370dda"
  },
  {
   "metadata": {
    "ExecuteTime": {
     "end_time": "2025-02-20T01:51:41.209416Z",
     "start_time": "2025-02-20T01:51:41.192849Z"
    }
   },
   "cell_type": "code",
   "source": [
    "class MyClass:\n",
    "    def __init__(self, x, y):\n",
    "        self.x = x\n",
    "        self.y = y\n",
    "\n",
    "    def __getattr__(self, name):\n",
    "        print(f\"__getattr__ called for {name}\")\n",
    "        return self.y[name]\n",
    "\n",
    "obj = MyClass(x=100, y={\"name\": \"Alice\", \"age\": 30})\n",
    "print(obj.x)  # 輸出 10，__getattr__ 不會被呼叫\n",
    "print(obj.name)  # 輸出 \"__getattr__ called for name\""
   ],
   "id": "7b8676cf8f004788",
   "outputs": [
    {
     "name": "stdout",
     "output_type": "stream",
     "text": [
      "100\n",
      "__getattr__ called for name\n",
      "Alice\n"
     ]
    }
   ],
   "execution_count": 2
  }
 ],
 "metadata": {
  "kernelspec": {
   "display_name": "Python 3",
   "language": "python",
   "name": "python3"
  },
  "language_info": {
   "codemirror_mode": {
    "name": "ipython",
    "version": 2
   },
   "file_extension": ".py",
   "mimetype": "text/x-python",
   "name": "python",
   "nbconvert_exporter": "python",
   "pygments_lexer": "ipython2",
   "version": "2.7.6"
  }
 },
 "nbformat": 4,
 "nbformat_minor": 5
}
