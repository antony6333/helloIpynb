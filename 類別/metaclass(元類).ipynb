{
 "cells": [
  {
   "metadata": {},
   "cell_type": "markdown",
   "source": [
    "## 使用元類(metaclass)創建類別\n",
    "---\n"
   ],
   "id": "9f5dc70a5e7deeb4"
  },
  {
   "metadata": {
    "ExecuteTime": {
     "end_time": "2025-02-20T08:18:41.445230Z",
     "start_time": "2025-02-20T08:18:41.418154Z"
    }
   },
   "cell_type": "code",
   "source": [
    "# 定義一個 metaclass\n",
    "class UppercaseAttributesMeta(type):  # 繼承type\n",
    "    def __new__(cls, name, bases, dct):\n",
    "        # 將屬性名稱轉成大寫\n",
    "        uppercase_attrs = {}\n",
    "        for key, value in dct.items():\n",
    "            if not key.startswith('__'):  # 忽略特殊方法\n",
    "                uppercase_attrs[key.upper()] = value\n",
    "            else:\n",
    "                uppercase_attrs[key] = value\n",
    "\n",
    "        # 使用修改後的字典創建類別\n",
    "        return super().__new__(cls, name, bases, uppercase_attrs)  #使用super()即type創建類別\n",
    "\n",
    "# 使用 metaclass 創建類別\n",
    "class MyClass(metaclass=UppercaseAttributesMeta):  # 不使用預設type，改用UppercaseAttributesMeta\n",
    "    def hello(self):\n",
    "        return \"Hello, world!\"\n",
    "\n",
    "    def goodbye(self):\n",
    "        return \"Goodbye!\"\n",
    "\n",
    "# 測試\n",
    "obj = MyClass()\n",
    "\n",
    "# 由於方法名稱已轉成大寫，需使用大寫名稱呼叫\n",
    "print(obj.HELLO())    # 輸出: Hello, world!\n",
    "print(obj.GOODBYE())  # 輸出: Goodbye!\n"
   ],
   "id": "2447990a1aea21b",
   "outputs": [
    {
     "name": "stdout",
     "output_type": "stream",
     "text": [
      "Hello, world!\n",
      "Goodbye!\n"
     ]
    }
   ],
   "execution_count": 2
  },
  {
   "metadata": {},
   "cell_type": "markdown",
   "source": [
    "---\n",
    "metaclass 在 Python 中是一個強大且靈活的工具，能夠在類別創建過程中插入自訂邏輯。以下是一些常見的 metaclass 應用情境：\n",
    "\n",
    "✅ 1. 自動註冊類別\n",
    "> 可以使用 metaclass 來自動將創建的類別加入某個全域的註冊表。例如，在插件系統中，每個插件類別可以自動被加入到插件列表中，方便後續調用。\n",
    "\n",
    "✅ 2. 強制類別規範\n",
    "> metaclass 可以用來檢查類別是否符合特定規範，例如：\n",
    "  + 確保類別實作了某些必要的方法（如 save 或 load）。\n",
    "  + 檢查是否有定義特定的屬性（如 id 或 name）。這可以在大型專案中強化一致性和避免錯誤。\n",
    "\n",
    "✅ 3. 修改類別屬性或方法\n",
    "> 可以在類別創建時：\n",
    "  + 自動為所有方法加上裝飾器（例如：自動日誌記錄或權限檢查）。\n",
    "  + 改變方法或屬性的命名（像是將所有方法轉成大寫或加上前綴）。\n",
    "\n",
    "✅ 4. 單例模式（Singleton）\n",
    "> 使用 metaclass 可以實現單例模式，確保某個類別永遠只能有一個實例。每次創建新實例時，會返回已存在的唯一實例。\n",
    "\n",
    "✅ 5. 自動產生方法或屬性\n",
    "> 在類別創建時，自動為類別加上某些常用的屬性或方法。例如：\n",
    "  + 自動生成 \\_\\_str\\_\\_、\\_\\_repr\\_\\_ 方法。\n",
    "  + 自動產生 CRUD 操作方法（在 ORM 框架中常見）。\n",
    "\n",
    "✅ 6. AOP（面向切面編程）\n",
    "> 透過 metaclass，可以在方法執行前後自動插入特定邏輯，如：\n",
    "  + 方法執行前後記錄日誌。\n",
    "  + 自動進行參數驗證或性能監控。\n",
    "\n",
    "✅ 7. ORM 框架中的使用\n",
    "> 在 Django 或 SQLAlchemy 等 ORM 框架中，metaclass 被用來：\n",
    "  + 解析模型類別中的欄位定義。\n",
    "  + 自動生成對應的資料庫表結構。\n",
    "  + 提供方便的查詢方法（如 Model.objects.filter()）。\n",
    "\n",
    "✅ 8. DSL（領域特定語言）創建\n",
    "> metaclass 可以幫助你設計內嵌式 DSL。例如：\n",
    "  + 設計一個 mini 語法來描述狀態機或工作流程。\n",
    "  + 用簡單的類別定義來描述複雜的配置或規則。\n",
    "\n",
    "✅ 9. 自訂反射行為\n",
    "> 透過 metaclass 可以自訂類別的反射行為（如 dir() 或 getattr() 的結果），讓反射時只暴露特定屬性或方法。\n",
    "\n",
    "✅ 10. API 驗證和序列化\n",
    "> 在一些 API 框架中，metaclass 被用來：\n",
    "  + 自動解析輸入資料並驗證格式。\n",
    "  + 將資料序列化成 JSON 或其他格式。\n"
   ],
   "id": "a8f131abd32055eb"
  }
 ],
 "metadata": {
  "kernelspec": {
   "display_name": "Python 3",
   "language": "python",
   "name": "python3"
  },
  "language_info": {
   "codemirror_mode": {
    "name": "ipython",
    "version": 2
   },
   "file_extension": ".py",
   "mimetype": "text/x-python",
   "name": "python",
   "nbconvert_exporter": "python",
   "pygments_lexer": "ipython2",
   "version": "2.7.6"
  }
 },
 "nbformat": 4,
 "nbformat_minor": 5
}
