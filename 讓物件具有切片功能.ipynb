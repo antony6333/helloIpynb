{
 "cells": [
  {
   "metadata": {},
   "cell_type": "markdown",
   "source": [
    "## 讓物件具有切片功能\n",
    "---\n",
    "要讓一個 Python 類別支援 切片（slice） 功能，需要實作 __getitem__ 方法"
   ],
   "id": "e747ee11ea7bb637"
  },
  {
   "metadata": {
    "ExecuteTime": {
     "end_time": "2025-02-17T08:00:22.415576Z",
     "start_time": "2025-02-17T08:00:22.399020Z"
    }
   },
   "cell_type": "code",
   "source": [
    "class SliceableList:\n",
    "    def __init__(self, data):\n",
    "        self.data = list(data)  # 確保是可索引的列表\n",
    "\n",
    "    def __getitem__(self, index):\n",
    "        cls = type(self)  # 獲取實例的類別 => self是物件(相當於Java的this)，type(self)是類別\n",
    "        if isinstance(index, slice):\n",
    "            # 當 index 是 slice 物件時，使用切片\n",
    "            #return SliceableList(self.data[index])\n",
    "            return cls(self.data[index])  # 這樣寫不用固定放類別名稱\n",
    "        else:\n",
    "            # 當 index 是單一索引時，直接返回對應值\n",
    "            return self.data[index]\n",
    "\n",
    "    def __repr__(self):\n",
    "        return f\"SliceableList({self.data})\"\n",
    "# 測試\n",
    "lst = SliceableList([0, 1, 2, 3, 4, 5, 6, 7, 8, 9])\n",
    "print(lst[2])         # 取單個元素\n",
    "print(lst[2:7])       # 切片（回傳新的 SliceableList）\n",
    "print(lst[:5])        # 從開頭到索引 5\n",
    "print(lst[::2])       # 間隔 2 切片"
   ],
   "id": "dc9514b526c43cf",
   "outputs": [
    {
     "name": "stdout",
     "output_type": "stream",
     "text": [
      "2\n",
      "SliceableList([2, 3, 4, 5, 6])\n",
      "SliceableList([0, 1, 2, 3, 4])\n",
      "SliceableList([0, 2, 4, 6, 8])\n"
     ]
    }
   ],
   "execution_count": 2
  },
  {
   "metadata": {},
   "cell_type": "markdown",
   "source": "## 補上其它常見的容使用方法",
   "id": "fe82c2ad60ac5232"
  },
  {
   "metadata": {
    "ExecuteTime": {
     "end_time": "2025-02-17T08:11:49.554259Z",
     "start_time": "2025-02-17T08:11:49.517629Z"
    }
   },
   "cell_type": "code",
   "source": [
    "class SliceableList:\n",
    "    def __init__(self, data):\n",
    "        self.data = list(data)  # 確保是可索引的列表\n",
    "\n",
    "    def __getitem__(self, index):\n",
    "        cls = type(self)  # 獲取實例的類別 => self是物件(相當於Java的this)，type(self)是類別\n",
    "        if isinstance(index, slice):\n",
    "            # 當 index 是 slice 物件時，使用切片\n",
    "            #return SliceableList(self.data[index])\n",
    "            return cls(self.data[index])  # 這樣寫不用固定放類別名稱\n",
    "        else:\n",
    "            # 當 index 是單一索引時，直接返回對應值\n",
    "            return self.data[index]\n",
    "\n",
    "    def __len__(self):\n",
    "        return len(self.data)\n",
    "\n",
    "    def __iter__(self):\n",
    "        return iter(self.data)\n",
    "\n",
    "    def __contains__(self, item):\n",
    "        return item in self.data\n",
    "\n",
    "    def __reversed__(self):\n",
    "        return reversed(self.data)\n",
    "\n",
    "    def __repr__(self):\n",
    "        return f\"SliceableList({self.data})\"\n",
    "# 測試\n",
    "lst = SliceableList([0, 1, 2, 3, 4, 5, 6, 7, 8, 9])\n",
    "print(len(lst))       # 10\n",
    "print(list(lst))      # [0, 1, 2, 3, 4, 5, 6, 7, 8, 9]\n",
    "print(5 in lst)       # True\n",
    "print(list(reversed(lst)))  # [9, 8, 7, 6, 5, 4, 3, 2, 1, 0]\n"
   ],
   "id": "588e443ab97dec44",
   "outputs": [
    {
     "name": "stdout",
     "output_type": "stream",
     "text": [
      "10\n",
      "[0, 1, 2, 3, 4, 5, 6, 7, 8, 9]\n",
      "True\n",
      "[9, 8, 7, 6, 5, 4, 3, 2, 1, 0]\n"
     ]
    }
   ],
   "execution_count": 3
  }
 ],
 "metadata": {
  "kernelspec": {
   "name": "python3",
   "language": "python",
   "display_name": "Python 3 (ipykernel)"
  }
 },
 "nbformat": 5,
 "nbformat_minor": 9
}
