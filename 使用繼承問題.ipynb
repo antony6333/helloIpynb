{
 "cells": [
  {
   "metadata": {},
   "cell_type": "markdown",
   "source": [
    "## 謹慎使用Python繼承(ABC)\n",
    "---\n",
    "\n",
    "+ 增加不必要的複雜性\n",
    "  - 使用 ABC 需要額外的 abc 模組（from abc import ABC, abstractmethod），並且要顯式標註 @abstractmethod，對於一些 Pythonic（符合 Python 風格）的方法來說，這可能顯得繁瑣。\n",
    "\n",
    "+ Python 是動態語言\n",
    "  - Python 本身是一種動態類型語言，不強制類型檢查。因此，使用 ABC 來強制子類實作某些方法，與 Python 的靈活特性不太契合。\n",
    "\n",
    "+ 影響靈活性\n",
    "  - 如果某個類繼承 ABC，但只需要部分功能，仍然必須實作所有抽象方法，否則無法實例化。這在某些場景下可能不太合適。\n",
    "\n",
    "+ Duck Typing 更加 Pythonic\n",
    "  - Python 提倡 Duck Typing（鴨子類型），即「如果它像鴨子、會呱呱叫，那它就是鴨子」。強制使用 ABC 來定義結構，反而可能違反這種靈活性。\n",
    "\n",
    "## 替代方法\n",
    "1. 使用 Duck Typing\n",
    "> Duck Typing 的概念是，只要物件具有某些方法或屬性，Python 會假設它是可用的，而不需要強制繼承特定的類別。"
   ],
   "id": "9481cb220feed796"
  },
  {
   "metadata": {
    "ExecuteTime": {
     "end_time": "2025-02-15T01:49:02.002130Z",
     "start_time": "2025-02-15T01:49:01.997540Z"
    }
   },
   "cell_type": "code",
   "source": [
    "class Dog:\n",
    "    def speak(self):\n",
    "        return \"Woof!\"\n",
    "\n",
    "class Cat:\n",
    "    def speak(self):\n",
    "        return \"Meow!\"\n",
    "\n",
    "def animal_sound(animal):  # 缺點是animal沒有限制類型 (這是動態語言的特性，天生多態，又不是Java的多態)\n",
    "    return animal.speak()  # 只要有 speak 方法，這個函數就能正常運作\n",
    "\n",
    "print(animal_sound(Dog()))  # Woof!\n",
    "print(animal_sound(Cat()))  # Meow!"
   ],
   "id": "3abf288628f3baab",
   "outputs": [
    {
     "name": "stdout",
     "output_type": "stream",
     "text": [
      "Woof!\n",
      "Meow!\n"
     ]
    }
   ],
   "execution_count": 2
  },
  {
   "metadata": {},
   "cell_type": "markdown",
   "source": [
    "2. 使用Protocol\n",
    "> 如果你仍然希望提供某種「結構化」的方式來定義介面，但又不想強制繼承，Python 3.8+ 提供了 Protocol（來自 typing 模組），這是一種更靈活的方式(像Java的interface)。\n"
   ],
   "id": "4babfb0a9487a203"
  },
  {
   "metadata": {
    "ExecuteTime": {
     "end_time": "2025-02-15T01:51:48.732862Z",
     "start_time": "2025-02-15T01:51:48.727836Z"
    }
   },
   "cell_type": "code",
   "source": [
    "from typing import Protocol\n",
    "\n",
    "class Speakable(Protocol):\n",
    "    def speak(self) -> str:\n",
    "        pass\n",
    "\n",
    "class Dog:\n",
    "    def speak(self):\n",
    "        return \"Woof!\"\n",
    "\n",
    "class Cat:\n",
    "    def speak(self):\n",
    "        return \"Meow!\"\n",
    "\n",
    "def animal_sound(animal: Speakable): #與鴨子類型的差異是這裡限制了傳入類型\n",
    "    return animal.speak()\n",
    "\n",
    "print(animal_sound(Dog()))  # Woof!\n",
    "print(animal_sound(Cat()))  # Meow!\n"
   ],
   "id": "cb3c729cb048905f",
   "outputs": [
    {
     "name": "stdout",
     "output_type": "stream",
     "text": [
      "Woof!\n",
      "Meow!\n"
     ]
    }
   ],
   "execution_count": 3
  },
  {
   "metadata": {},
   "cell_type": "markdown",
   "source": [
    "3. 使用Mixin\n",
    "> 如果你的目標是提供某些行為給多個類，但不希望強制繼承，可以使用 Mixin 模式，使用上Mixin不要有初始化方法__init__，應用在多個子類都有相同的工具包這樣的概念。"
   ],
   "id": "9eeffa24ca4ff531"
  },
  {
   "metadata": {
    "ExecuteTime": {
     "end_time": "2025-02-15T22:24:07.834397Z",
     "start_time": "2025-02-15T22:24:07.826578Z"
    }
   },
   "cell_type": "code",
   "source": [
    "class LoggerMixin:\n",
    "    def log(self, message):\n",
    "        print(f\"[LOG]: {message}\")\n",
    "\n",
    "class Dog(LoggerMixin):\n",
    "    def speak(self):\n",
    "        self.log(\"Dog is speaking\")\n",
    "        return \"Woof!\"\n",
    "\n",
    "dog = Dog()\n",
    "print(dog.speak())  # [LOG]: Dog is speaking  Woof!\n"
   ],
   "id": "a8c8126d556ccb61",
   "outputs": [
    {
     "name": "stdout",
     "output_type": "stream",
     "text": [
      "[LOG]: Dog is speaking\n",
      "Woof!\n"
     ]
    }
   ],
   "execution_count": 1
  },
  {
   "metadata": {},
   "cell_type": "markdown",
   "source": [
    "## 總結\n",
    "\n",
    "<style>\n",
    "td,th {\n",
    "  font-size: 18px;\n",
    "}\n",
    "</style>\n",
    "\n",
    "|       方法        |               優勢            |                     何時使用                      |\n",
    "|:---------------:|:------------------------------:|:---------------------------------------------:|\n",
    "|    ABC（抽象基類）|  強制子類實作某些方法，確保結構一致 |          當你希望所有子類都有相同的 API，並且要在編譯時檢查          |\n",
    "|   Duck Typing   |          Pythonic，靈活         |          當你只關心對象是否具有特定方法，而不管它的類別繼承關係          |\n",
    "|    Protocol     |          兼顧靜態類型檢查與靈活性  |           需要靜態類型檢查（如 mypy），但不希望強制繼承           |\n",
    "|      Mixin      |       提供可選行為，而不是強制結構  |             需要為多個類別提供額外功能但不強制 API             |\n"
   ],
   "id": "5da0d79d446e9ff2"
  }
 ],
 "metadata": {
  "kernelspec": {
   "display_name": "Python 3",
   "language": "python",
   "name": "python3"
  },
  "language_info": {
   "codemirror_mode": {
    "name": "ipython",
    "version": 2
   },
   "file_extension": ".py",
   "mimetype": "text/x-python",
   "name": "python",
   "nbconvert_exporter": "python",
   "pygments_lexer": "ipython2",
   "version": "2.7.6"
  }
 },
 "nbformat": 4,
 "nbformat_minor": 5
}
