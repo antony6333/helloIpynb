{
 "cells": [
  {
   "metadata": {},
   "cell_type": "markdown",
   "source": [
    "## 上下文管理器\n",
    "---\n",
    "Python中用於資源的初始化與釋放的語法糖，可以使用`with`語句來簡化try...finally...的代碼。"
   ],
   "id": "e80bb067eceadb06"
  },
  {
   "metadata": {
    "ExecuteTime": {
     "end_time": "2025-02-18T02:03:12.374915Z",
     "start_time": "2025-02-18T02:03:12.350888Z"
    }
   },
   "cell_type": "code",
   "source": [
    "class OpenFile:\n",
    "    def __init__(self, file_name, mode):\n",
    "        self.file_name = file_name\n",
    "        self.mode = mode\n",
    "\n",
    "    def __enter__(self):\n",
    "        print(\"Opening file...\")\n",
    "        self.file = open(self.file_name, self.mode)\n",
    "        return self.file\n",
    "\n",
    "    def __exit__(self, exc_type, exc_value, traceback):\n",
    "        print(\"Closing file...\")\n",
    "        self.file.close()\n",
    "\n",
    "# 用法\n",
    "with OpenFile(\"example.txt\", \"w\") as f:\n",
    "    f.write(\"Hello, world!\")"
   ],
   "id": "1e2416a8d0970b84",
   "outputs": [
    {
     "name": "stdout",
     "output_type": "stream",
     "text": [
      "Opening file...\n",
      "Closing file...\n"
     ]
    }
   ],
   "execution_count": 1
  },
  {
   "metadata": {},
   "cell_type": "markdown",
   "source": [
    "with語句的執行流程如下：\n",
    "1. 呼叫`__enter__`方法，獲取`with`語句中的變數。\n",
    "2. 執行`with`語句內的代碼。\n",
    "3. 呼叫`__exit__`方法，釋放資源。\n",
    "---\n",
    "## 另一種方式 @contextlib.contextmanager\n"
   ],
   "id": "c6b8aa998e353bb9"
  },
  {
   "metadata": {},
   "cell_type": "code",
   "outputs": [],
   "execution_count": null,
   "source": [
    "import contextlib\n",
    "\n",
    "@contextlib.contextmanager\n",
    "def open_file(file_name, mode):\n",
    "    print(\"Opening file...\")\n",
    "    file = open(file_name, mode)  # 1. 打開文件\n",
    "    try:\n",
    "        yield file  # 2. 將文件物件提供給 `with` 區塊  (若不需要返回值=>yield {})\n",
    "    finally:\n",
    "        print(\"Closing file...\")\n",
    "        file.close()  # 3. 確保文件關閉\n",
    "\n",
    "with open_file(\"example.txt\", \"w\") as f:\n",
    "    f.write(\"Hello, world!\")"
   ],
   "id": "d4764e4b0a2f6b4e"
  },
  {
   "metadata": {},
   "cell_type": "markdown",
   "source": [
    "yield 在 @contextlib.contextmanager 的作用\n",
    "1. 在 with 語句開始時，yield 之前的程式碼會執行（資源初始化）。\n",
    "2. yield 將控制權交給 with 區塊內的程式（允許用戶執行主要操作）。\n",
    "3. 當 with 區塊結束時，yield 之後的程式碼會執行（執行資源清理，如關閉檔案、釋放鎖等）。"
   ],
   "id": "5b2436b113df7942"
  }
 ],
 "metadata": {
  "kernelspec": {
   "name": "python3",
   "language": "python",
   "display_name": "Python 3 (ipykernel)"
  }
 },
 "nbformat": 5,
 "nbformat_minor": 9
}
