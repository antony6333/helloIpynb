{
 "cells": [
  {
   "metadata": {},
   "cell_type": "markdown",
   "source": [
    "## Python 函數的參數列定義特別做法\n",
    "---\n",
    "\n",
    "1. *args（不帶參數名稱的可變參數）\n",
    "   + *args 允許函式接受任意數量的位置參數（Positional Arguments）。\n",
    "   + args 會變成一個 tuple（元組），包含所有傳入的參數。"
   ],
   "id": "9b307d9f636fb275"
  },
  {
   "metadata": {
    "ExecuteTime": {
     "end_time": "2025-02-16T09:11:52.364449Z",
     "start_time": "2025-02-16T09:11:52.360192Z"
    }
   },
   "cell_type": "code",
   "source": [
    "def add(*args):\n",
    "    return sum(args)\n",
    "\n",
    "print(add(1, 2, 3))\n",
    "print(add(5, 10, 15, 20))"
   ],
   "id": "64e92ca515c6e7ab",
   "outputs": [
    {
     "name": "stdout",
     "output_type": "stream",
     "text": [
      "6\n",
      "50\n"
     ]
    }
   ],
   "execution_count": 3
  },
  {
   "metadata": {},
   "cell_type": "markdown",
   "source": [
    "2. **kwargs（帶參數名稱的可變參數）\n",
    "   + **kwargs 允許函式接受任意數量的關鍵字參數（Keyword Arguments）。\n",
    "   + kwargs 會變成一個 dict（字典），包含所有的鍵值對。"
   ],
   "id": "b6876fa88c134685"
  },
  {
   "metadata": {
    "ExecuteTime": {
     "end_time": "2025-02-16T09:15:02.377611Z",
     "start_time": "2025-02-16T09:15:02.373194Z"
    }
   },
   "cell_type": "code",
   "source": [
    "def print_info(**kwargs):\n",
    "    for key, value in kwargs.items():\n",
    "        print(f\"{key}: {value}\")\n",
    "\n",
    "print_info(name=\"Alice\", age=30, job=\"Engineer\")"
   ],
   "id": "b092f7ac52a4f94b",
   "outputs": [
    {
     "name": "stdout",
     "output_type": "stream",
     "text": [
      "name: Alice\n",
      "age: 30\n",
      "job: Engineer\n"
     ]
    }
   ],
   "execution_count": 4
  },
  {
   "metadata": {},
   "cell_type": "markdown",
   "source": [
    "## * 與 ** 的反向解包\n",
    "---\n",
    "\n",
    "符號 * 和 ** 也可以在函式呼叫（Call）時使用，將序列或字典解包。\n",
    "\n",
    "1. 使用 * 解包 list 或 tuple"
   ],
   "id": "c3d97b16af39af3b"
  },
  {
   "metadata": {
    "ExecuteTime": {
     "end_time": "2025-02-16T09:19:13.682079Z",
     "start_time": "2025-02-16T09:19:13.677380Z"
    }
   },
   "cell_type": "code",
   "source": [
    "def multiply(a, b, c):\n",
    "    return a * b * c\n",
    "\n",
    "nums = [2, 3, 4]\n",
    "print(multiply(*nums))"
   ],
   "id": "b7eb49208c44a265",
   "outputs": [
    {
     "name": "stdout",
     "output_type": "stream",
     "text": [
      "24\n"
     ]
    }
   ],
   "execution_count": 5
  },
  {
   "metadata": {},
   "cell_type": "markdown",
   "source": "2. 使用 ** 解包 dict",
   "id": "3d48a2fd74d21cb9"
  },
  {
   "metadata": {
    "ExecuteTime": {
     "end_time": "2025-02-16T09:20:58.346220Z",
     "start_time": "2025-02-16T09:20:58.341746Z"
    }
   },
   "cell_type": "code",
   "source": [
    "def greet(name, age):\n",
    "    print(f\"Hello, my name is {name} and I am {age} years old.\")\n",
    "\n",
    "person = {\"name\": \"Bob\", \"age\": 25}\n",
    "greet(**person)"
   ],
   "id": "b78e4a582ef84e7c",
   "outputs": [
    {
     "name": "stdout",
     "output_type": "stream",
     "text": [
      "Hello, my name is Bob and I am 25 years old.\n"
     ]
    }
   ],
   "execution_count": 6
  },
  {
   "metadata": {},
   "cell_type": "markdown",
   "source": [
    "## * 在函式定義中的特殊用途\n",
    "---\n",
    "\n",
    "Python 3.8+ 允許 * 單獨出現在函式參數列中，以限制 哪些參數必須使用關鍵字傳入。"
   ],
   "id": "b89a0c47a6de296b"
  },
  {
   "metadata": {
    "ExecuteTime": {
     "end_time": "2025-02-16T09:22:53.135099Z",
     "start_time": "2025-02-16T09:22:52.782494Z"
    }
   },
   "cell_type": "code",
   "source": [
    "def greet(name, *, age):\n",
    "    print(f\"Hello, my name is {name} and I am {age} years old.\")\n",
    "\n",
    "greet(\"Alice\", age=30)  # ✅ 正確\n",
    "greet(\"Alice\", 30)    # ❌ 錯誤，age 需要明確使用關鍵字"
   ],
   "id": "cc6f89137fb2fbd6",
   "outputs": [
    {
     "name": "stdout",
     "output_type": "stream",
     "text": [
      "Hello, my name is Alice and I am 30 years old.\n"
     ]
    },
    {
     "ename": "TypeError",
     "evalue": "greet() takes 1 positional argument but 2 were given",
     "output_type": "error",
     "traceback": [
      "\u001B[1;31m---------------------------------------------------------------------------\u001B[0m",
      "\u001B[1;31mTypeError\u001B[0m                                 Traceback (most recent call last)",
      "Cell \u001B[1;32mIn[7], line 5\u001B[0m\n\u001B[0;32m      2\u001B[0m     \u001B[38;5;28mprint\u001B[39m(\u001B[38;5;124mf\u001B[39m\u001B[38;5;124m\"\u001B[39m\u001B[38;5;124mHello, my name is \u001B[39m\u001B[38;5;132;01m{\u001B[39;00mname\u001B[38;5;132;01m}\u001B[39;00m\u001B[38;5;124m and I am \u001B[39m\u001B[38;5;132;01m{\u001B[39;00mage\u001B[38;5;132;01m}\u001B[39;00m\u001B[38;5;124m years old.\u001B[39m\u001B[38;5;124m\"\u001B[39m)\n\u001B[0;32m      4\u001B[0m greet(\u001B[38;5;124m\"\u001B[39m\u001B[38;5;124mAlice\u001B[39m\u001B[38;5;124m\"\u001B[39m, age\u001B[38;5;241m=\u001B[39m\u001B[38;5;241m30\u001B[39m)  \u001B[38;5;66;03m# ✅ 正確\u001B[39;00m\n\u001B[1;32m----> 5\u001B[0m \u001B[43mgreet\u001B[49m\u001B[43m(\u001B[49m\u001B[38;5;124;43m\"\u001B[39;49m\u001B[38;5;124;43mAlice\u001B[39;49m\u001B[38;5;124;43m\"\u001B[39;49m\u001B[43m,\u001B[49m\u001B[43m \u001B[49m\u001B[38;5;241;43m30\u001B[39;49m\u001B[43m)\u001B[49m    \u001B[38;5;66;03m# ❌ 錯誤，age 需要明確使用關鍵字\u001B[39;00m\n",
      "\u001B[1;31mTypeError\u001B[0m: greet() takes 1 positional argument but 2 were given"
     ]
    }
   ],
   "execution_count": 7
  },
  {
   "metadata": {},
   "cell_type": "markdown",
   "source": [
    "## *args 與 **kwargs 同時存在的函式\n",
    "----"
   ],
   "id": "fb79334c6f8326ff"
  },
  {
   "metadata": {
    "ExecuteTime": {
     "end_time": "2025-02-16T09:25:40.449415Z",
     "start_time": "2025-02-16T09:25:40.445037Z"
    }
   },
   "cell_type": "code",
   "source": [
    "def demo_function(*args, **kwargs):\n",
    "    print(\"位置參數 (args):\", args)\n",
    "    print(\"關鍵字參數 (kwargs):\", kwargs)\n",
    "\n",
    "# 測試傳入不同類型的參數\n",
    "demo_function(1, 2, 3, name=\"Alice\", age=25)"
   ],
   "id": "3d9c2787cf1b903a",
   "outputs": [
    {
     "name": "stdout",
     "output_type": "stream",
     "text": [
      "位置參數 (args): (1, 2, 3)\n",
      "關鍵字參數 (kwargs): {'name': 'Alice', 'age': 25}\n"
     ]
    }
   ],
   "execution_count": 8
  },
  {
   "metadata": {},
   "cell_type": "markdown",
   "source": "## 可以用 *args 和 **kwargs 來將參數轉發到其他函式中",
   "id": "8f8c3bccc0c3d281"
  },
  {
   "metadata": {},
   "cell_type": "code",
   "outputs": [],
   "execution_count": null,
   "source": [
    "def greet(name, age):\n",
    "    print(f\"Hello, my name is {name} and I am {age} years old.\")\n",
    "\n",
    "def wrapper(*args, **kwargs):\n",
    "    greet(*args, **kwargs)  # 轉發參數給 greet\n",
    "\n",
    "wrapper(\"Alice\", age=30)"
   ],
   "id": "9c8c0a413bcbbf6b"
  },
  {
   "metadata": {},
   "cell_type": "markdown",
   "source": [
    "### 解析\n",
    "1. wrapper(\"Alice\", age=30) 會把 \"Alice\" 傳入 *args，把 age=30 傳入 **kwargs。\n",
    "2. greet(*args, **kwargs) 解包 這些參數，使 greet(\"Alice\", age=30) 成為有效呼叫。"
   ],
   "id": "96e84f2265194ac0"
  }
 ],
 "metadata": {
  "kernelspec": {
   "name": "python3",
   "language": "python",
   "display_name": "Python 3 (ipykernel)"
  }
 },
 "nbformat": 5,
 "nbformat_minor": 9
}
